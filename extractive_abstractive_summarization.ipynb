{
  "nbformat": 4,
  "nbformat_minor": 0,
  "metadata": {
    "colab": {
      "provenance": []
    },
    "kernelspec": {
      "name": "python3",
      "display_name": "Python 3"
    },
    "language_info": {
      "name": "python"
    }
  },
  "cells": [
    {
      "cell_type": "code",
      "source": [
        "from google.colab import drive\n",
        "drive.mount('/content/drive')"
      ],
      "metadata": {
        "colab": {
          "base_uri": "https://localhost:8080/"
        },
        "id": "rhlmxm8m0kIZ",
        "outputId": "cc4e426e-972e-4e8c-d8f8-2022094c6453"
      },
      "execution_count": null,
      "outputs": [
        {
          "output_type": "stream",
          "name": "stdout",
          "text": [
            "Drive already mounted at /content/drive; to attempt to forcibly remount, call drive.mount(\"/content/drive\", force_remount=True).\n"
          ]
        }
      ]
    },
    {
      "cell_type": "code",
      "source": [
        "!pip install transformers[sentencepiece]"
      ],
      "metadata": {
        "colab": {
          "base_uri": "https://localhost:8080/"
        },
        "id": "rE31u-vuwzc6",
        "outputId": "ee37db0b-2f13-4e60-e6a1-ccfe8bbaba6e"
      },
      "execution_count": null,
      "outputs": [
        {
          "output_type": "stream",
          "name": "stdout",
          "text": [
            "Looking in indexes: https://pypi.org/simple, https://us-python.pkg.dev/colab-wheels/public/simple/\n",
            "Requirement already satisfied: transformers[sentencepiece] in /usr/local/lib/python3.9/dist-packages (4.27.4)\n",
            "Requirement already satisfied: regex!=2019.12.17 in /usr/local/lib/python3.9/dist-packages (from transformers[sentencepiece]) (2022.10.31)\n",
            "Requirement already satisfied: numpy>=1.17 in /usr/local/lib/python3.9/dist-packages (from transformers[sentencepiece]) (1.22.4)\n",
            "Requirement already satisfied: requests in /usr/local/lib/python3.9/dist-packages (from transformers[sentencepiece]) (2.27.1)\n",
            "Requirement already satisfied: tqdm>=4.27 in /usr/local/lib/python3.9/dist-packages (from transformers[sentencepiece]) (4.65.0)\n",
            "Requirement already satisfied: packaging>=20.0 in /usr/local/lib/python3.9/dist-packages (from transformers[sentencepiece]) (23.0)\n",
            "Requirement already satisfied: huggingface-hub<1.0,>=0.11.0 in /usr/local/lib/python3.9/dist-packages (from transformers[sentencepiece]) (0.13.3)\n",
            "Requirement already satisfied: tokenizers!=0.11.3,<0.14,>=0.11.1 in /usr/local/lib/python3.9/dist-packages (from transformers[sentencepiece]) (0.13.2)\n",
            "Requirement already satisfied: filelock in /usr/local/lib/python3.9/dist-packages (from transformers[sentencepiece]) (3.10.7)\n",
            "Requirement already satisfied: pyyaml>=5.1 in /usr/local/lib/python3.9/dist-packages (from transformers[sentencepiece]) (6.0)\n",
            "Requirement already satisfied: sentencepiece!=0.1.92,>=0.1.91 in /usr/local/lib/python3.9/dist-packages (from transformers[sentencepiece]) (0.1.97)\n",
            "Requirement already satisfied: protobuf<=3.20.2 in /usr/local/lib/python3.9/dist-packages (from transformers[sentencepiece]) (3.20.2)\n",
            "Requirement already satisfied: typing-extensions>=3.7.4.3 in /usr/local/lib/python3.9/dist-packages (from huggingface-hub<1.0,>=0.11.0->transformers[sentencepiece]) (4.5.0)\n",
            "Requirement already satisfied: idna<4,>=2.5 in /usr/local/lib/python3.9/dist-packages (from requests->transformers[sentencepiece]) (3.4)\n",
            "Requirement already satisfied: charset-normalizer~=2.0.0 in /usr/local/lib/python3.9/dist-packages (from requests->transformers[sentencepiece]) (2.0.12)\n",
            "Requirement already satisfied: certifi>=2017.4.17 in /usr/local/lib/python3.9/dist-packages (from requests->transformers[sentencepiece]) (2022.12.7)\n",
            "Requirement already satisfied: urllib3<1.27,>=1.21.1 in /usr/local/lib/python3.9/dist-packages (from requests->transformers[sentencepiece]) (1.26.15)\n"
          ]
        }
      ]
    },
    {
      "cell_type": "markdown",
      "source": [
        "# Inputing "
      ],
      "metadata": {
        "id": "fqCxgaI5Srl2"
      }
    },
    {
      "cell_type": "code",
      "source": [
        "with open('/content/drive/MyDrive/PCL/TextData/Input.txt','r') as f:\n",
        "  file_content=f.read()\n",
        "  print(file_content)"
      ],
      "metadata": {
        "colab": {
          "base_uri": "https://localhost:8080/"
        },
        "id": "OrIGO5dReUpL",
        "outputId": "8019c218-08c9-4285-ec3c-9c206ff0f810"
      },
      "execution_count": null,
      "outputs": [
        {
          "output_type": "stream",
          "name": "stdout",
          "text": [
            "\"\"\"I. What kinds of information do we collect?\n",
            "To provide the Meta Products, we must process information about you. The type of information that we collect depends on how you use our Products. You can learn how to access and delete information that we collect by visiting the Facebook settings and Instagram settings.\n",
            "Things that you and others do and provide.\n",
            "Information and content you provide. We collect the content, communications and other information you provide when you use our Products, including when you sign up for an account, create or share content and message or communicate with others. This can include information in or about the content that you provide (e.g. metadata), such as the location of a photo or the date a file was created. It can also include what you see through features that we provide, such as our camera, so we can do things such as suggest masks and filters that you might like, or give you tips on using camera formats. Our systems automatically process content and communications that you and others provide to analyse context and what's in them for the purposes described below. Learn more about how you can control who can see the things you share.\n",
            "Data with special protections: You can choose to provide information in your Facebook profile fields or life events about your religious views, political views, who you are \"interested in\" or your health. This and other information (such as racial or ethnic origin, philosophical beliefs or trade union membership) could be subject to special protections under the laws of your country.\n",
            "Networks and connections. We collect information about the people, accounts, hashtags, Facebook groups and Pages that you are connected to and how you interact with them across our Products, such as people you communicate with the most or groups that you are part of. We also collect contact information if you choose to upload, sync or import it from a device (such as an address book or call log or SMS log history), which we use for things such as helping you and others find people you may know and for the other purposes listed below.\n",
            "Your usage. We collect information about how you use our Products, such as the types of content that you view or engage with, the features you use, the actions you take, the people or accounts you interact with and the time, frequency and duration of your activities. For example, we log when you're using and have last used our Products, and what posts, videos and other content you view on our Products. We also collect information about how you use features such as our camera.\n",
            "Information about transactions made on our Products. If you use our Products for purchases or other financial transactions (such as when you make a purchase in a game or make a donation), we collect information about the purchase or transaction. This includes payment information, such as your credit or debit card number and other card information, other account and authentication information, and billing, delivery and contact details.\n",
            "Things others do and information they provide about you. We also receive and analyse content, communications and information that other people provide when they use our Products. This can include information about you, such as when others share or comment on a photo of you, send a message to you or upload, sync or import your contact information.\n",
            "\n",
            "Device information.\n",
            "As described below, we collect information from and about the computers, phones, connected TVs and other web-connected devices you use that integrate with our Products, and we combine this information across different devices you use. For example, we use information collected about your use of our Products on your phone to better personalise the content (including ads) or features that you see when you use our Products on another device, such as your laptop or tablet, or to measure whether you took an action in response to an ad that we showed you on your phone on a different device.\n",
            "Information we obtain from these devices includes:\n",
            "Device attributes: information such as the operating system, hardware and software versions, battery level, signal strength, available storage space, browser type, app and file names and types, and plugins.\n",
            "Device operations: information about operations and behaviours performed on the device, such as whether a window is in the foreground or background, or mouse movements (which can help distinguish humans from bots).\n",
            "Identifiers: unique identifiers, device IDs and other identifiers, such as from games, apps or accounts that you use, and Family Device IDs (or other identifiers unique to Meta Company Products associated with the same device or account).\n",
            "Device signals: Bluetooth signals, information about nearby Wi-Fi access points, beacons and mobile phone masts.\n",
            "Data from device settings: information you allow us to receive through device settings that you turn on, such as access to your GPS location, camera or photos.\n",
            "Network and connections: information such as the name of your mobile operator or ISP, language, time zone, mobile phone number, IP address, connection speed and, in some cases, information about other devices that are nearby or on your network, so we can do things such as help you stream a video from your phone to your TV.\n",
            "Cookie data: data from cookies stored on your device, including cookie IDs and settings. Learn more about how we use cookies in the Facebook Cookies Policy and Instagram Cookies Policy.\n",
            "\n",
            "Information from partners.\n",
            "Advertisers, app developers and publishers can send us information through Meta Business Tools that they use, including our social plug-ins (such as the Like button), Facebook Login, our APIs and SDKs or the Meta pixel. These partners provide information about your activities off of our Products – including information about your device, websites you visit, purchases you make, the ads you see and how you use their services – whether or not you have an account or are logged in to our Products. For example, a game developer could use our API to tell us what games you play, or a business could tell us about a purchase you made in its shop. We also receive information about your online and offline actions and purchases from third-party data providers who have the rights to provide us with your information.\n",
            "Partners receive your data when you visit or use their services, or through third parties that they work with. We require each of these partners to have lawful rights to collect, use and share your data before providing us with any data. Learn more about the types of partners we receive data from.\n",
            "To learn more about how we use cookies in connection with Meta Business Tools, review the Facebook Cookies Policy and Instagram Cookies Policy.\n",
            "\n",
            "\n",
            "II. How do we use this information?\n",
            "We use the information that we have (subject to choices you make) as described below and to provide and support the Meta Products and related services described in the Meta Terms and Instagram Terms. Here's how:\n",
            "Provide, personalise and improve our Products.\n",
            "We use the information that we have to deliver our Products, including to personalise features and content (including your ads, Facebook News Feed, Instagram feed and Instagram Stories) and make suggestions for you (such as groups or events that you may be interested in or topics that you may want to follow) on and off our Products. To create personalised Products that are unique and relevant to you, we use your connections, preferences, interests and activities based on the data that we collect and learn from you and others (including any data with special protections you choose to provide); how you use and interact with our Products; and the people, places or things that you're connected to and interested in on and off our Products. Learn more about how we use information about you to personalise your Facebook and Instagram experience, including features, content and recommendations in Meta Products; you can also learn more about how we choose the ads that you see.\n",
            "Information across Meta Products and devices: We connect information about your activities on different Meta Products and devices to provide a more tailored and consistent experience on all Meta Products that you use, wherever you use them. For example, we can suggest that you join a group on Facebook that includes people you follow on Instagram or communicate with using Messenger. We can also make your experience more seamless, for example, by automatically filling in your registration information (such as your phone number) from one Meta Product when you sign up for an account on a different Product.\n",
            "Location-related information: We use location-related information – such as your current location, where you live, the places you like to go, and the businesses and people you're near – to provide, personalise and improve our Products, including ads, for you and others. Location-related information can be based on things such as precise device location (if you've allowed us to collect it), IP addresses and information from your and others' use of Meta Products (such as check-ins or events that you attend).\n",
            "Product research and development: We use the information we have to develop, test and improve our Products, including by conducting surveys and research, and testing and troubleshooting new products and features.\n",
            "Ads and other sponsored content: We use the information we have about you – including information about your interests, actions and connections – to select and personalise ads, offers and other sponsored content that we show you. Learn more about how we select and personalise ads, and your choices over the data we use to select ads and other sponsored content for you in the Facebook Settings and Instagram Settings.\n",
            "\n",
            "Providing measurement, analytics and other business services.\n",
            "We use the information we have (including your activity off our Products, such as the websites you visit and ads you see) to help advertisers and other partners measure the effectiveness and distribution of their ads and services, and understand the types of people who use their services and how people interact with their websites, apps and services. Learn how we share information with these partners.\n",
            "\n",
            "Promoting safety, integrity and security.\n",
            "We use the information that we have to verify accounts and activity, combat harmful conduct, detect and prevent spam and other bad experiences, maintain the integrity of our Products, and promote safety and security on and off of Meta Products. For example, we use data that we have to investigate suspicious activity or violations of our Terms or Policies, or to detect when someone needs help. To learn more, visit the Facebook Security Help Centre and Instagram Security Tips.\n",
            "\n",
            "Communicate with you.\n",
            "We use the information that we have to send you marketing communications, communicate with you about our Products and let you know about our Policies and Terms. We also use your information to respond to you when you contact us.\n",
            "\n",
            "Researching and innovating for social good.\n",
            "We use the information we have (including from research partners we collaborate with) to conduct and support research and innovation on topics of general social welfare, technological advancement, public interest, health and well-being. For example, we analyse information we have about migration patterns during crises to aid relief efforts. Learn more about our research programmes.\n",
            "\n",
            "\n",
            "III. How is this information shared?\n",
            "Your information is shared with others in the following ways:\n",
            "Sharing on Meta Products\n",
            "People and accounts that you share and communicate with\n",
            "When you share and communicate using our Products, you choose the audience for what you share. For example, when you post on Facebook, you select the audience for the post, such as a group, all of your friends, the public or a customised list of people. Similarly, when you use Messenger or Instagram to communicate with people or businesses, those people and businesses can see the content you send. Your network can also see actions that you have taken on our Products, including engagement with ads and sponsored content. We also let other accounts see who has viewed their Facebook or Instagram Stories.\n",
            "Public information can be seen by anyone, on or off our Products, including if they don't have an account. This includes your Instagram username, any information you share with a public audience, information in your public profile on Facebook, and content you share on a Facebook Page, public Instagram account or any other public forum, such as Facebook Marketplace. You, other people using Facebook and Instagram and we can provide access to or send public information to anyone on or off our Products, including in other Meta Company Products, in search results or through tools and APIs. Public information can also be seen, accessed, reshared or downloaded through third-party services such as search engines, APIs and offline media such as TV, and by apps, websites and other services that integrate with our Products.\n",
            "Learn more about what information is public and how to control your visibility on Facebook and Instagram.\n",
            "Content that others share or reshare about you.\n",
            "You should consider who you choose to share with, because people who can see your activity on our Products can choose to share it with others on and off our Products, including people and businesses outside the audience that you shared with. For example, when you share a post or send a message to specific friends or accounts, they can download, screenshot or reshare that content to others across or off our Products, in person or in virtual reality experiences such as Horizon Worlds. Also, when you comment on someone else's post or react to their content, your comment or reaction will be visible to anyone who can see the other person's content, and that person will be able to change the audience later.\n",
            "People can also use our Products to create and share content about you with the audience they choose. For example, people can share a photo of you in a story, mention or tag you at a location in a post, or share information about you in their posts or messages. If you are uncomfortable with what others have shared about you on our Products, you can learn how to report the content.\n",
            "Information about your active status or presence on our Products.\n",
            "People in your networks can see signals telling them whether you are active on our Products, including whether you are currently active on Instagram, Messenger or Facebook, or when you last used our Products.\n",
            "Apps, websites and third-party integrations on or using our Products.\n",
            "When you choose to use third-party apps, websites or other services that use, or are integrated with, our Products, they can receive information about what you post or share. For example, when you play a game with your Facebook friends or use a Facebook Comment or Share button on a website, the game developer or website can receive information about your activities in the game or receive a comment or link that you share from the website on Facebook. Also, when you download or use such third-party services, they can access your public profile on Facebook, and any information that you share with them. Apps and websites that you use may receive your list of Facebook friends if you choose to share it with them. But apps and websites that you use will not be able to receive any other information about your Facebook friends from you, or information about any of your Instagram followers (although your friends and followers may, of course, choose to share this information themselves). Information collected by these third-party services is subject to their own terms and policies, not this one.\n",
            "Devices and operating systems providing native versions of Facebook and Instagram (i.e. where we have not developed our own first-party apps) will have access to all information you choose to share with them, including information your friends share with you, so they can provide our core functionality to you.\n",
            "Note: We are in the process of restricting developers' data access even further to help prevent abuse. For example, we will remove developers' access to your Facebook and Instagram data if you haven't used their app in three months, and we are changing login, so that in the next version, we will reduce the data that an app can request without app review to include only name, Instagram username and bio, profile photo and email address. Requesting any other data will require our approval.\n",
            "New owner.\n",
            "If the ownership or control of all or part of our Products or their assets changes, we may transfer your information to the new owner.\n",
            "\n",
            "Sharing with third-party partners\n",
            "We work with third-party partners who help us provide and improve our Products or who use Meta Business Tools to grow their businesses, which makes it possible to operate our companies and provide free services to people around the world. We don't sell any of your information to anyone and we never will. We also impose strict restrictions on how our partners can use and disclose the data we provide. Here are the types of third parties that we share information with:\n",
            "Partners who use our analytics services.\n",
            "We provide aggregated statistics and insights that help people and businesses understand how people are engaging with their posts, listings, Facebook Pages, videos and other content on and off the Meta Products. For example, Facebook Page admins and Instagram business profiles receive information about the number of people or accounts who viewed, reacted to or commented on their posts, as well as aggregate demographic and other information that helps them understand interactions with their account or Facebook Page.\n",
            "Advertisers.\n",
            "We provide advertisers with reports about the kinds of people seeing their ads and how their ads are performing, but we don't share information that personally identifies you (information such as your name or email address that by itself can be used to contact you or identifies who you are) unless you give us permission. For example, we provide general demographic and interest information for advertisers (for example, that an ad was seen by a woman between the ages of 25 and 34 who lives in Madrid and likes software engineering) to help them better understand their audience. We also confirm which ads led you to make a purchase or take an action with an advertiser.\n",
            "Measurement partners.\n",
            "We share information about you with companies that aggregate it to provide analytics and measurement reports to our partners.\n",
            "Partners offering goods and services in our Products.\n",
            "When you subscribe to receive premium content, or buy something from a seller in our Products, the content creator or seller can receive your public information and other information that you share with them, as well as the information needed to complete the transaction, including shipping and contact details.\n",
            "Vendors and service providers.\n",
            "We provide information and content to vendors and service providers who support our business, such as by providing technical infrastructure services, analysing how our Products are used, providing customer service, facilitating payments or conducting surveys.\n",
            "Researchers and academics.\n",
            "We also provide information and content to research partners and academics to conduct research that advances scholarship and innovation that supports our business or mission and enhances discovery and innovation on topics of general social welfare, technological advancement, public interest, health and well-being.\n",
            "Law enforcement or legal requests.\n",
            "We share information with law enforcement or in response to legal requests in the circumstances outlined below.\n",
            "Learn more about how you can control the information about you that you or others share with third-party partners in the Facebook settings and Instagram settings.\n",
            "\n",
            "\n",
            "IV. How do the Meta Companies work together?\n",
            "Facebook and Instagram share infrastructure, systems and technology with other Meta Companies (which include WhatsApp and Oculus) to provide an innovative, relevant, consistent and safe experience across all Meta Company Products that you use. We also process information about you across the Meta Companies for these purposes, as permitted by applicable law and in accordance with their terms and policies. For example, we process information from WhatsApp about accounts sending spam on its service so we can take appropriate action against those accounts on Facebook, Instagram or Messenger. We also work to understand how people use and interact with Meta Company Products, such as understanding the number of unique users on different Meta Company Products.\n",
            "\n",
            "\n",
            "V. How can I manage or delete information about me?\n",
            "We provide you with the ability to access, rectify, port and delete your data. Learn more in your Facebook settings and Instagram settings.\n",
            "We store data until it is no longer necessary to provide our services and Meta Products, or until your account is deleted – whichever comes first. This is a case-by-case determination that depends on things such as the nature of the data, why it is collected and processed, and relevant legal or operational retention needs. For example, when you search for something on Facebook, you can access and delete that query from within your search history at any time, but the log of that search is deleted after six months. If you submit a copy of your government-issued ID for account verification purposes, we delete that copy 30 days after review, unless otherwise stated. Learn more about deletion of content that you have shared and cookie data obtained through social plugins.\n",
            "When you delete your account, we delete things that you have posted, such as your photos and status updates, and you won't be able to recover this information later. Information that others have shared about you isn't part of your account and won't be deleted. If you don't want to delete your account but want to temporarily stop using the Products, you can deactivate your account instead. To delete your account at any time, please visit the Facebook settings and Instagram settings.\n",
            "\n",
            "\n",
            "VI. How do we respond to legal requests or prevent harm?\n",
            "We access, preserve and share your information with regulators, law enforcement or others:\n",
            "In response to a legal request (e.g. a search warrant, court order or subpoena) if we have a good-faith belief that the law requires us to do so. This may include responding to legal requests from jurisdictions outside of the United States when we have a good-faith belief that the response is required by law in that jurisdiction, affects users in that jurisdiction and is consistent with internationally recognised standards.\n",
            "When we have a good-faith belief that it is necessary to: detect, prevent and address fraud, unauthorised use of the Products, breaches of our Terms or Policies, or other harmful or illegal activity; to protect ourselves (including our rights, property or Products), you or others, including as part of investigations or regulatory enquiries; or to prevent death or imminent bodily harm. For example, if relevant, we provide information to and receive information from third-party partners about the reliability of your account to prevent fraud, abuse and other harmful activity on and off our Products.\n",
            "Information that we receive about you (including financial transaction data related to purchases made on our Products) can be accessed and preserved for an extended period when it is the subject of a legal request or obligation, governmental investigation or investigations of possible violations of our terms or policies, or otherwise to prevent harm. We also retain information from accounts disabled for term breaches for at least a year to prevent repeat abuse or other term breaches.\n",
            "\n",
            "\n",
            "VII. How do we operate and transfer data as part of our global services?\n",
            "We share information globally, both internally within the Meta Companies, and externally with our partners and with those you connect and share with around the world in accordance with this policy. Your information may, for example, be transferred or transmitted to, or stored and processed in the United States or other countries outside of where you live for the purposes as described in this Policy. These data transfers are necessary to provide the services set forth in the Meta Terms and Instagram Terms and to globally operate and provide our Products to you. We utilise standard contract clauses, rely on the European Commission's adequacy decisions about certain countries, as applicable, and obtain your consent for these data transfers to the United States and other countries.\"\"\"\n"
          ]
        }
      ]
    },
    {
      "cell_type": "code",
      "source": [
        "text=file_content"
      ],
      "metadata": {
        "id": "4rQ9qRAJx_tT"
      },
      "execution_count": null,
      "outputs": []
    },
    {
      "cell_type": "code",
      "source": [
        "print('Total number of words of the original text:',len(text))"
      ],
      "metadata": {
        "colab": {
          "base_uri": "https://localhost:8080/"
        },
        "id": "0xeLw9L47Jz6",
        "outputId": "41dcc98c-be6f-4407-9f00-7136fc4b6961"
      },
      "execution_count": null,
      "outputs": [
        {
          "output_type": "stream",
          "name": "stdout",
          "text": [
            "Total number of words of the original text: 24765\n"
          ]
        }
      ]
    },
    {
      "cell_type": "code",
      "source": [
        "import nltk\n",
        "nltk.download('punkt')\n",
        "nltk.download('stopwords')"
      ],
      "metadata": {
        "colab": {
          "base_uri": "https://localhost:8080/"
        },
        "id": "-LNL3ZYdwtx_",
        "outputId": "d6eb8ec0-dc86-4b95-9e85-b290f1c2162e"
      },
      "execution_count": null,
      "outputs": [
        {
          "output_type": "stream",
          "name": "stderr",
          "text": [
            "[nltk_data] Downloading package punkt to /root/nltk_data...\n",
            "[nltk_data]   Package punkt is already up-to-date!\n",
            "[nltk_data] Downloading package stopwords to /root/nltk_data...\n",
            "[nltk_data]   Package stopwords is already up-to-date!\n"
          ]
        },
        {
          "output_type": "execute_result",
          "data": {
            "text/plain": [
              "True"
            ]
          },
          "metadata": {},
          "execution_count": 50
        }
      ]
    },
    {
      "cell_type": "code",
      "source": [
        "from nltk.tokenize import word_tokenize,sent_tokenize\n",
        "\n",
        "def remove_shortWord(sentences):\n",
        "  remove_word={\"he's\":\"he is\",\"she's\":\"she is\",\"that's\":\"that is\",\"i'm\":\"i am\",\"what's\":\"what is\",\"where's\":\"where is\",\"\\'ll\":\"will\",\"\\'ve\":\"have\",\"\\'re\":\"are\",\n",
        "               \"\\'d\":\"would\",\"won't\":\"would not\",\"willn't\":\"will not\",\"can't\":\"can not\",\"don't\":\"do not\"}\n",
        "  words=sentences.split()\n",
        "  for i in range(len(words)):\n",
        "    if words[i] in set(remove_word.keys()):\n",
        "      words[i]=remove_word[words[i]]\n",
        "  words=\" \".join(words)\n",
        "  return words"
      ],
      "metadata": {
        "id": "hbgg4X0Jw95y"
      },
      "execution_count": null,
      "outputs": []
    },
    {
      "cell_type": "code",
      "source": [
        "import regex\n",
        "\n",
        "def tokenize_sentence(text):\n",
        "  sents=sent_tokenize(text) \n",
        "  sent_list=[]\n",
        "  for sent in sents:\n",
        "    sent=sent.strip()\n",
        "    sent=sent.lower()\n",
        "    sent=remove_shortWord(sent) \n",
        "    sent_list.append(sent)\n",
        "  return(sent_list)\n",
        "\n",
        "\n",
        "sentences=tokenize_sentence(text)\n",
        "sent_for_print=sentences\n",
        "print(sentences)"
      ],
      "metadata": {
        "colab": {
          "base_uri": "https://localhost:8080/"
        },
        "id": "RhOa4F_ExBFx",
        "outputId": "2ff9d887-f335-487a-eb91-7d0084e61797"
      },
      "execution_count": null,
      "outputs": [
        {
          "output_type": "stream",
          "name": "stdout",
          "text": [
            "['\"\"\"i.', 'what kinds of information do we collect?', 'to provide the meta products, we must process information about you.', 'the type of information that we collect depends on how you use our products.', 'you can learn how to access and delete information that we collect by visiting the facebook settings and instagram settings.', 'things that you and others do and provide.', 'information and content you provide.', 'we collect the content, communications and other information you provide when you use our products, including when you sign up for an account, create or share content and message or communicate with others.', 'this can include information in or about the content that you provide (e.g.', 'metadata), such as the location of a photo or the date a file was created.', 'it can also include what you see through features that we provide, such as our camera, so we can do things such as suggest masks and filters that you might like, or give you tips on using camera formats.', 'our systems automatically process content and communications that you and others provide to analyse context and what is in them for the purposes described below.', 'learn more about how you can control who can see the things you share.', 'data with special protections: you can choose to provide information in your facebook profile fields or life events about your religious views, political views, who you are \"interested in\" or your health.', 'this and other information (such as racial or ethnic origin, philosophical beliefs or trade union membership) could be subject to special protections under the laws of your country.', 'networks and connections.', 'we collect information about the people, accounts, hashtags, facebook groups and pages that you are connected to and how you interact with them across our products, such as people you communicate with the most or groups that you are part of.', 'we also collect contact information if you choose to upload, sync or import it from a device (such as an address book or call log or sms log history), which we use for things such as helping you and others find people you may know and for the other purposes listed below.', 'your usage.', 'we collect information about how you use our products, such as the types of content that you view or engage with, the features you use, the actions you take, the people or accounts you interact with and the time, frequency and duration of your activities.', \"for example, we log when you're using and have last used our products, and what posts, videos and other content you view on our products.\", 'we also collect information about how you use features such as our camera.', 'information about transactions made on our products.', 'if you use our products for purchases or other financial transactions (such as when you make a purchase in a game or make a donation), we collect information about the purchase or transaction.', 'this includes payment information, such as your credit or debit card number and other card information, other account and authentication information, and billing, delivery and contact details.', 'things others do and information they provide about you.', 'we also receive and analyse content, communications and information that other people provide when they use our products.', 'this can include information about you, such as when others share or comment on a photo of you, send a message to you or upload, sync or import your contact information.', 'device information.', 'as described below, we collect information from and about the computers, phones, connected tvs and other web-connected devices you use that integrate with our products, and we combine this information across different devices you use.', 'for example, we use information collected about your use of our products on your phone to better personalise the content (including ads) or features that you see when you use our products on another device, such as your laptop or tablet, or to measure whether you took an action in response to an ad that we showed you on your phone on a different device.', 'information we obtain from these devices includes: device attributes: information such as the operating system, hardware and software versions, battery level, signal strength, available storage space, browser type, app and file names and types, and plugins.', 'device operations: information about operations and behaviours performed on the device, such as whether a window is in the foreground or background, or mouse movements (which can help distinguish humans from bots).', 'identifiers: unique identifiers, device ids and other identifiers, such as from games, apps or accounts that you use, and family device ids (or other identifiers unique to meta company products associated with the same device or account).', 'device signals: bluetooth signals, information about nearby wi-fi access points, beacons and mobile phone masts.', 'data from device settings: information you allow us to receive through device settings that you turn on, such as access to your gps location, camera or photos.', 'network and connections: information such as the name of your mobile operator or isp, language, time zone, mobile phone number, ip address, connection speed and, in some cases, information about other devices that are nearby or on your network, so we can do things such as help you stream a video from your phone to your tv.', 'cookie data: data from cookies stored on your device, including cookie ids and settings.', 'learn more about how we use cookies in the facebook cookies policy and instagram cookies policy.', 'information from partners.', 'advertisers, app developers and publishers can send us information through meta business tools that they use, including our social plug-ins (such as the like button), facebook login, our apis and sdks or the meta pixel.', 'these partners provide information about your activities off of our products – including information about your device, websites you visit, purchases you make, the ads you see and how you use their services – whether or not you have an account or are logged in to our products.', 'for example, a game developer could use our api to tell us what games you play, or a business could tell us about a purchase you made in its shop.', 'we also receive information about your online and offline actions and purchases from third-party data providers who have the rights to provide us with your information.', 'partners receive your data when you visit or use their services, or through third parties that they work with.', 'we require each of these partners to have lawful rights to collect, use and share your data before providing us with any data.', 'learn more about the types of partners we receive data from.', 'to learn more about how we use cookies in connection with meta business tools, review the facebook cookies policy and instagram cookies policy.', 'ii.', 'how do we use this information?', 'we use the information that we have (subject to choices you make) as described below and to provide and support the meta products and related services described in the meta terms and instagram terms.', \"here's how: provide, personalise and improve our products.\", 'we use the information that we have to deliver our products, including to personalise features and content (including your ads, facebook news feed, instagram feed and instagram stories) and make suggestions for you (such as groups or events that you may be interested in or topics that you may want to follow) on and off our products.', \"to create personalised products that are unique and relevant to you, we use your connections, preferences, interests and activities based on the data that we collect and learn from you and others (including any data with special protections you choose to provide); how you use and interact with our products; and the people, places or things that you're connected to and interested in on and off our products.\", 'learn more about how we use information about you to personalise your facebook and instagram experience, including features, content and recommendations in meta products; you can also learn more about how we choose the ads that you see.', 'information across meta products and devices: we connect information about your activities on different meta products and devices to provide a more tailored and consistent experience on all meta products that you use, wherever you use them.', 'for example, we can suggest that you join a group on facebook that includes people you follow on instagram or communicate with using messenger.', 'we can also make your experience more seamless, for example, by automatically filling in your registration information (such as your phone number) from one meta product when you sign up for an account on a different product.', \"location-related information: we use location-related information – such as your current location, where you live, the places you like to go, and the businesses and people you're near – to provide, personalise and improve our products, including ads, for you and others.\", \"location-related information can be based on things such as precise device location (if you've allowed us to collect it), ip addresses and information from your and others' use of meta products (such as check-ins or events that you attend).\", 'product research and development: we use the information we have to develop, test and improve our products, including by conducting surveys and research, and testing and troubleshooting new products and features.', 'ads and other sponsored content: we use the information we have about you – including information about your interests, actions and connections – to select and personalise ads, offers and other sponsored content that we show you.', 'learn more about how we select and personalise ads, and your choices over the data we use to select ads and other sponsored content for you in the facebook settings and instagram settings.', 'providing measurement, analytics and other business services.', 'we use the information we have (including your activity off our products, such as the websites you visit and ads you see) to help advertisers and other partners measure the effectiveness and distribution of their ads and services, and understand the types of people who use their services and how people interact with their websites, apps and services.', 'learn how we share information with these partners.', 'promoting safety, integrity and security.', 'we use the information that we have to verify accounts and activity, combat harmful conduct, detect and prevent spam and other bad experiences, maintain the integrity of our products, and promote safety and security on and off of meta products.', 'for example, we use data that we have to investigate suspicious activity or violations of our terms or policies, or to detect when someone needs help.', 'to learn more, visit the facebook security help centre and instagram security tips.', 'communicate with you.', 'we use the information that we have to send you marketing communications, communicate with you about our products and let you know about our policies and terms.', 'we also use your information to respond to you when you contact us.', 'researching and innovating for social good.', 'we use the information we have (including from research partners we collaborate with) to conduct and support research and innovation on topics of general social welfare, technological advancement, public interest, health and well-being.', 'for example, we analyse information we have about migration patterns during crises to aid relief efforts.', 'learn more about our research programmes.', 'iii.', 'how is this information shared?', 'your information is shared with others in the following ways: sharing on meta products people and accounts that you share and communicate with when you share and communicate using our products, you choose the audience for what you share.', 'for example, when you post on facebook, you select the audience for the post, such as a group, all of your friends, the public or a customised list of people.', 'similarly, when you use messenger or instagram to communicate with people or businesses, those people and businesses can see the content you send.', 'your network can also see actions that you have taken on our products, including engagement with ads and sponsored content.', 'we also let other accounts see who has viewed their facebook or instagram stories.', 'public information can be seen by anyone, on or off our products, including if they do not have an account.', 'this includes your instagram username, any information you share with a public audience, information in your public profile on facebook, and content you share on a facebook page, public instagram account or any other public forum, such as facebook marketplace.', 'you, other people using facebook and instagram and we can provide access to or send public information to anyone on or off our products, including in other meta company products, in search results or through tools and apis.', 'public information can also be seen, accessed, reshared or downloaded through third-party services such as search engines, apis and offline media such as tv, and by apps, websites and other services that integrate with our products.', 'learn more about what information is public and how to control your visibility on facebook and instagram.', 'content that others share or reshare about you.', 'you should consider who you choose to share with, because people who can see your activity on our products can choose to share it with others on and off our products, including people and businesses outside the audience that you shared with.', 'for example, when you share a post or send a message to specific friends or accounts, they can download, screenshot or reshare that content to others across or off our products, in person or in virtual reality experiences such as horizon worlds.', \"also, when you comment on someone else's post or react to their content, your comment or reaction will be visible to anyone who can see the other person's content, and that person will be able to change the audience later.\", 'people can also use our products to create and share content about you with the audience they choose.', 'for example, people can share a photo of you in a story, mention or tag you at a location in a post, or share information about you in their posts or messages.', 'if you are uncomfortable with what others have shared about you on our products, you can learn how to report the content.', 'information about your active status or presence on our products.', 'people in your networks can see signals telling them whether you are active on our products, including whether you are currently active on instagram, messenger or facebook, or when you last used our products.', 'apps, websites and third-party integrations on or using our products.', 'when you choose to use third-party apps, websites or other services that use, or are integrated with, our products, they can receive information about what you post or share.', 'for example, when you play a game with your facebook friends or use a facebook comment or share button on a website, the game developer or website can receive information about your activities in the game or receive a comment or link that you share from the website on facebook.', 'also, when you download or use such third-party services, they can access your public profile on facebook, and any information that you share with them.', 'apps and websites that you use may receive your list of facebook friends if you choose to share it with them.', 'but apps and websites that you use will not be able to receive any other information about your facebook friends from you, or information about any of your instagram followers (although your friends and followers may, of course, choose to share this information themselves).', 'information collected by these third-party services is subject to their own terms and policies, not this one.', 'devices and operating systems providing native versions of facebook and instagram (i.e.', 'where we have not developed our own first-party apps) will have access to all information you choose to share with them, including information your friends share with you, so they can provide our core functionality to you.', \"note: we are in the process of restricting developers' data access even further to help prevent abuse.\", \"for example, we will remove developers' access to your facebook and instagram data if you haven't used their app in three months, and we are changing login, so that in the next version, we will reduce the data that an app can request without app review to include only name, instagram username and bio, profile photo and email address.\", 'requesting any other data will require our approval.', 'new owner.', 'if the ownership or control of all or part of our products or their assets changes, we may transfer your information to the new owner.', 'sharing with third-party partners we work with third-party partners who help us provide and improve our products or who use meta business tools to grow their businesses, which makes it possible to operate our companies and provide free services to people around the world.', 'we do not sell any of your information to anyone and we never will.', 'we also impose strict restrictions on how our partners can use and disclose the data we provide.', 'here are the types of third parties that we share information with: partners who use our analytics services.', 'we provide aggregated statistics and insights that help people and businesses understand how people are engaging with their posts, listings, facebook pages, videos and other content on and off the meta products.', 'for example, facebook page admins and instagram business profiles receive information about the number of people or accounts who viewed, reacted to or commented on their posts, as well as aggregate demographic and other information that helps them understand interactions with their account or facebook page.', 'advertisers.', 'we provide advertisers with reports about the kinds of people seeing their ads and how their ads are performing, but we do not share information that personally identifies you (information such as your name or email address that by itself can be used to contact you or identifies who you are) unless you give us permission.', 'for example, we provide general demographic and interest information for advertisers (for example, that an ad was seen by a woman between the ages of 25 and 34 who lives in madrid and likes software engineering) to help them better understand their audience.', 'we also confirm which ads led you to make a purchase or take an action with an advertiser.', 'measurement partners.', 'we share information about you with companies that aggregate it to provide analytics and measurement reports to our partners.', 'partners offering goods and services in our products.', 'when you subscribe to receive premium content, or buy something from a seller in our products, the content creator or seller can receive your public information and other information that you share with them, as well as the information needed to complete the transaction, including shipping and contact details.', 'vendors and service providers.', 'we provide information and content to vendors and service providers who support our business, such as by providing technical infrastructure services, analysing how our products are used, providing customer service, facilitating payments or conducting surveys.', 'researchers and academics.', 'we also provide information and content to research partners and academics to conduct research that advances scholarship and innovation that supports our business or mission and enhances discovery and innovation on topics of general social welfare, technological advancement, public interest, health and well-being.', 'law enforcement or legal requests.', 'we share information with law enforcement or in response to legal requests in the circumstances outlined below.', 'learn more about how you can control the information about you that you or others share with third-party partners in the facebook settings and instagram settings.', 'iv.', 'how do the meta companies work together?', 'facebook and instagram share infrastructure, systems and technology with other meta companies (which include whatsapp and oculus) to provide an innovative, relevant, consistent and safe experience across all meta company products that you use.', 'we also process information about you across the meta companies for these purposes, as permitted by applicable law and in accordance with their terms and policies.', 'for example, we process information from whatsapp about accounts sending spam on its service so we can take appropriate action against those accounts on facebook, instagram or messenger.', 'we also work to understand how people use and interact with meta company products, such as understanding the number of unique users on different meta company products.', 'v. how can i manage or delete information about me?', 'we provide you with the ability to access, rectify, port and delete your data.', 'learn more in your facebook settings and instagram settings.', 'we store data until it is no longer necessary to provide our services and meta products, or until your account is deleted – whichever comes first.', 'this is a case-by-case determination that depends on things such as the nature of the data, why it is collected and processed, and relevant legal or operational retention needs.', 'for example, when you search for something on facebook, you can access and delete that query from within your search history at any time, but the log of that search is deleted after six months.', 'if you submit a copy of your government-issued id for account verification purposes, we delete that copy 30 days after review, unless otherwise stated.', 'learn more about deletion of content that you have shared and cookie data obtained through social plugins.', 'when you delete your account, we delete things that you have posted, such as your photos and status updates, and you would not be able to recover this information later.', \"information that others have shared about you isn't part of your account and would not be deleted.\", 'if you do not want to delete your account but want to temporarily stop using the products, you can deactivate your account instead.', 'to delete your account at any time, please visit the facebook settings and instagram settings.', 'vi.', 'how do we respond to legal requests or prevent harm?', 'we access, preserve and share your information with regulators, law enforcement or others: in response to a legal request (e.g.', 'a search warrant, court order or subpoena) if we have a good-faith belief that the law requires us to do so.', 'this may include responding to legal requests from jurisdictions outside of the united states when we have a good-faith belief that the response is required by law in that jurisdiction, affects users in that jurisdiction and is consistent with internationally recognised standards.', 'when we have a good-faith belief that it is necessary to: detect, prevent and address fraud, unauthorised use of the products, breaches of our terms or policies, or other harmful or illegal activity; to protect ourselves (including our rights, property or products), you or others, including as part of investigations or regulatory enquiries; or to prevent death or imminent bodily harm.', 'for example, if relevant, we provide information to and receive information from third-party partners about the reliability of your account to prevent fraud, abuse and other harmful activity on and off our products.', 'information that we receive about you (including financial transaction data related to purchases made on our products) can be accessed and preserved for an extended period when it is the subject of a legal request or obligation, governmental investigation or investigations of possible violations of our terms or policies, or otherwise to prevent harm.', 'we also retain information from accounts disabled for term breaches for at least a year to prevent repeat abuse or other term breaches.', 'vii.', 'how do we operate and transfer data as part of our global services?', 'we share information globally, both internally within the meta companies, and externally with our partners and with those you connect and share with around the world in accordance with this policy.', 'your information may, for example, be transferred or transmitted to, or stored and processed in the united states or other countries outside of where you live for the purposes as described in this policy.', 'these data transfers are necessary to provide the services set forth in the meta terms and instagram terms and to globally operate and provide our products to you.', 'we utilise standard contract clauses, rely on the european commission\\'s adequacy decisions about certain countries, as applicable, and obtain your consent for these data transfers to the united states and other countries.\"\"\"']\n"
          ]
        }
      ]
    },
    {
      "cell_type": "code",
      "source": [
        "import string\n",
        "def remove_punctuation(sentences):\n",
        "  sent_list=[]\n",
        "  for sent in sentences:\n",
        "    words=word_tokenize(sent)\n",
        "    str=\"\"\n",
        "    for i in range(len(words)):\n",
        "      x=regex.sub(\"[^\\w\\s]|_\",\"\",words[i]).strip()\n",
        "      str=str+\" \"+x\n",
        "      str=str.strip()\n",
        "    sent_list.append(str)\n",
        "  return sent_list\n",
        "\n",
        "sentences=remove_punctuation(sentences)\n",
        "print(sentences)"
      ],
      "metadata": {
        "colab": {
          "base_uri": "https://localhost:8080/"
        },
        "id": "uYQwKE7PxDPp",
        "outputId": "90d4fbdf-7790-4d1c-ebf9-08797bfb44e6"
      },
      "execution_count": null,
      "outputs": [
        {
          "output_type": "stream",
          "name": "stdout",
          "text": [
            "['i', 'what kinds of information do we collect', 'to provide the meta products we must process information about you', 'the type of information that we collect depends on how you use our products', 'you can learn how to access and delete information that we collect by visiting the facebook settings and instagram settings', 'things that you and others do and provide', 'information and content you provide', 'we collect the content communications and other information you provide when you use our products including when you sign up for an account create or share content and message or communicate with others', 'this can include information in or about the content that you provide eg', 'metadata such as the location of a photo or the date a file was created', 'it can also include what you see through features that we provide such as our camera so we can do things such as suggest masks and filters that you might like or give you tips on using camera formats', 'our systems automatically process content and communications that you and others provide to analyse context and what is in them for the purposes described below', 'learn more about how you can control who can see the things you share', 'data with special protections you can choose to provide information in your facebook profile fields or life events about your religious views political views who you are interested in or your health', 'this and other information such as racial or ethnic origin philosophical beliefs or trade union membership could be subject to special protections under the laws of your country', 'networks and connections', 'we collect information about the people accounts hashtags facebook groups and pages that you are connected to and how you interact with them across our products such as people you communicate with the most or groups that you are part of', 'we also collect contact information if you choose to upload sync or import it from a device such as an address book or call log or sms log history which we use for things such as helping you and others find people you may know and for the other purposes listed below', 'your usage', 'we collect information about how you use our products such as the types of content that you view or engage with the features you use the actions you take the people or accounts you interact with and the time frequency and duration of your activities', 'for example we log when you re using and have last used our products and what posts videos and other content you view on our products', 'we also collect information about how you use features such as our camera', 'information about transactions made on our products', 'if you use our products for purchases or other financial transactions such as when you make a purchase in a game or make a donation we collect information about the purchase or transaction', 'this includes payment information such as your credit or debit card number and other card information other account and authentication information and billing delivery and contact details', 'things others do and information they provide about you', 'we also receive and analyse content communications and information that other people provide when they use our products', 'this can include information about you such as when others share or comment on a photo of you send a message to you or upload sync or import your contact information', 'device information', 'as described below we collect information from and about the computers phones connected tvs and other webconnected devices you use that integrate with our products and we combine this information across different devices you use', 'for example we use information collected about your use of our products on your phone to better personalise the content including ads or features that you see when you use our products on another device such as your laptop or tablet or to measure whether you took an action in response to an ad that we showed you on your phone on a different device', 'information we obtain from these devices includes device attributes information such as the operating system hardware and software versions battery level signal strength available storage space browser type app and file names and types and plugins', 'device operations information about operations and behaviours performed on the device such as whether a window is in the foreground or background or mouse movements which can help distinguish humans from bots', 'identifiers unique identifiers device ids and other identifiers such as from games apps or accounts that you use and family device ids or other identifiers unique to meta company products associated with the same device or account', 'device signals bluetooth signals information about nearby wifi access points beacons and mobile phone masts', 'data from device settings information you allow us to receive through device settings that you turn on such as access to your gps location camera or photos', 'network and connections information such as the name of your mobile operator or isp language time zone mobile phone number ip address connection speed and in some cases information about other devices that are nearby or on your network so we can do things such as help you stream a video from your phone to your tv', 'cookie data data from cookies stored on your device including cookie ids and settings', 'learn more about how we use cookies in the facebook cookies policy and instagram cookies policy', 'information from partners', 'advertisers app developers and publishers can send us information through meta business tools that they use including our social plugins such as the like button facebook login our apis and sdks or the meta pixel', 'these partners provide information about your activities off of our products including information about your device websites you visit purchases you make the ads you see and how you use their services whether or not you have an account or are logged in to our products', 'for example a game developer could use our api to tell us what games you play or a business could tell us about a purchase you made in its shop', 'we also receive information about your online and offline actions and purchases from thirdparty data providers who have the rights to provide us with your information', 'partners receive your data when you visit or use their services or through third parties that they work with', 'we require each of these partners to have lawful rights to collect use and share your data before providing us with any data', 'learn more about the types of partners we receive data from', 'to learn more about how we use cookies in connection with meta business tools review the facebook cookies policy and instagram cookies policy', 'ii', 'how do we use this information', 'we use the information that we have subject to choices you make as described below and to provide and support the meta products and related services described in the meta terms and instagram terms', 'here s how provide personalise and improve our products', 'we use the information that we have to deliver our products including to personalise features and content including your ads facebook news feed instagram feed and instagram stories and make suggestions for you such as groups or events that you may be interested in or topics that you may want to follow on and off our products', 'to create personalised products that are unique and relevant to you we use your connections preferences interests and activities based on the data that we collect and learn from you and others including any data with special protections you choose to provide how you use and interact with our products and the people places or things that you re connected to and interested in on and off our products', 'learn more about how we use information about you to personalise your facebook and instagram experience including features content and recommendations in meta products you can also learn more about how we choose the ads that you see', 'information across meta products and devices we connect information about your activities on different meta products and devices to provide a more tailored and consistent experience on all meta products that you use wherever you use them', 'for example we can suggest that you join a group on facebook that includes people you follow on instagram or communicate with using messenger', 'we can also make your experience more seamless for example by automatically filling in your registration information such as your phone number from one meta product when you sign up for an account on a different product', 'locationrelated information we use locationrelated information such as your current location where you live the places you like to go and the businesses and people you re near to provide personalise and improve our products including ads for you and others', 'locationrelated information can be based on things such as precise device location if you ve allowed us to collect it ip addresses and information from your and others use of meta products such as checkins or events that you attend', 'product research and development we use the information we have to develop test and improve our products including by conducting surveys and research and testing and troubleshooting new products and features', 'ads and other sponsored content we use the information we have about you including information about your interests actions and connections to select and personalise ads offers and other sponsored content that we show you', 'learn more about how we select and personalise ads and your choices over the data we use to select ads and other sponsored content for you in the facebook settings and instagram settings', 'providing measurement analytics and other business services', 'we use the information we have including your activity off our products such as the websites you visit and ads you see to help advertisers and other partners measure the effectiveness and distribution of their ads and services and understand the types of people who use their services and how people interact with their websites apps and services', 'learn how we share information with these partners', 'promoting safety integrity and security', 'we use the information that we have to verify accounts and activity combat harmful conduct detect and prevent spam and other bad experiences maintain the integrity of our products and promote safety and security on and off of meta products', 'for example we use data that we have to investigate suspicious activity or violations of our terms or policies or to detect when someone needs help', 'to learn more visit the facebook security help centre and instagram security tips', 'communicate with you', 'we use the information that we have to send you marketing communications communicate with you about our products and let you know about our policies and terms', 'we also use your information to respond to you when you contact us', 'researching and innovating for social good', 'we use the information we have including from research partners we collaborate with to conduct and support research and innovation on topics of general social welfare technological advancement public interest health and wellbeing', 'for example we analyse information we have about migration patterns during crises to aid relief efforts', 'learn more about our research programmes', 'iii', 'how is this information shared', 'your information is shared with others in the following ways sharing on meta products people and accounts that you share and communicate with when you share and communicate using our products you choose the audience for what you share', 'for example when you post on facebook you select the audience for the post such as a group all of your friends the public or a customised list of people', 'similarly when you use messenger or instagram to communicate with people or businesses those people and businesses can see the content you send', 'your network can also see actions that you have taken on our products including engagement with ads and sponsored content', 'we also let other accounts see who has viewed their facebook or instagram stories', 'public information can be seen by anyone on or off our products including if they do not have an account', 'this includes your instagram username any information you share with a public audience information in your public profile on facebook and content you share on a facebook page public instagram account or any other public forum such as facebook marketplace', 'you other people using facebook and instagram and we can provide access to or send public information to anyone on or off our products including in other meta company products in search results or through tools and apis', 'public information can also be seen accessed reshared or downloaded through thirdparty services such as search engines apis and offline media such as tv and by apps websites and other services that integrate with our products', 'learn more about what information is public and how to control your visibility on facebook and instagram', 'content that others share or reshare about you', 'you should consider who you choose to share with because people who can see your activity on our products can choose to share it with others on and off our products including people and businesses outside the audience that you shared with', 'for example when you share a post or send a message to specific friends or accounts they can download screenshot or reshare that content to others across or off our products in person or in virtual reality experiences such as horizon worlds', 'also when you comment on someone else s post or react to their content your comment or reaction will be visible to anyone who can see the other person s content and that person will be able to change the audience later', 'people can also use our products to create and share content about you with the audience they choose', 'for example people can share a photo of you in a story mention or tag you at a location in a post or share information about you in their posts or messages', 'if you are uncomfortable with what others have shared about you on our products you can learn how to report the content', 'information about your active status or presence on our products', 'people in your networks can see signals telling them whether you are active on our products including whether you are currently active on instagram messenger or facebook or when you last used our products', 'apps websites and thirdparty integrations on or using our products', 'when you choose to use thirdparty apps websites or other services that use or are integrated with our products they can receive information about what you post or share', 'for example when you play a game with your facebook friends or use a facebook comment or share button on a website the game developer or website can receive information about your activities in the game or receive a comment or link that you share from the website on facebook', 'also when you download or use such thirdparty services they can access your public profile on facebook and any information that you share with them', 'apps and websites that you use may receive your list of facebook friends if you choose to share it with them', 'but apps and websites that you use will not be able to receive any other information about your facebook friends from you or information about any of your instagram followers although your friends and followers may of course choose to share this information themselves', 'information collected by these thirdparty services is subject to their own terms and policies not this one', 'devices and operating systems providing native versions of facebook and instagram ie', 'where we have not developed our own firstparty apps will have access to all information you choose to share with them including information your friends share with you so they can provide our core functionality to you', 'note we are in the process of restricting developers data access even further to help prevent abuse', 'for example we will remove developers access to your facebook and instagram data if you have nt used their app in three months and we are changing login so that in the next version we will reduce the data that an app can request without app review to include only name instagram username and bio profile photo and email address', 'requesting any other data will require our approval', 'new owner', 'if the ownership or control of all or part of our products or their assets changes we may transfer your information to the new owner', 'sharing with thirdparty partners we work with thirdparty partners who help us provide and improve our products or who use meta business tools to grow their businesses which makes it possible to operate our companies and provide free services to people around the world', 'we do not sell any of your information to anyone and we never will', 'we also impose strict restrictions on how our partners can use and disclose the data we provide', 'here are the types of third parties that we share information with partners who use our analytics services', 'we provide aggregated statistics and insights that help people and businesses understand how people are engaging with their posts listings facebook pages videos and other content on and off the meta products', 'for example facebook page admins and instagram business profiles receive information about the number of people or accounts who viewed reacted to or commented on their posts as well as aggregate demographic and other information that helps them understand interactions with their account or facebook page', 'advertisers', 'we provide advertisers with reports about the kinds of people seeing their ads and how their ads are performing but we do not share information that personally identifies you information such as your name or email address that by itself can be used to contact you or identifies who you are unless you give us permission', 'for example we provide general demographic and interest information for advertisers for example that an ad was seen by a woman between the ages of 25 and 34 who lives in madrid and likes software engineering to help them better understand their audience', 'we also confirm which ads led you to make a purchase or take an action with an advertiser', 'measurement partners', 'we share information about you with companies that aggregate it to provide analytics and measurement reports to our partners', 'partners offering goods and services in our products', 'when you subscribe to receive premium content or buy something from a seller in our products the content creator or seller can receive your public information and other information that you share with them as well as the information needed to complete the transaction including shipping and contact details', 'vendors and service providers', 'we provide information and content to vendors and service providers who support our business such as by providing technical infrastructure services analysing how our products are used providing customer service facilitating payments or conducting surveys', 'researchers and academics', 'we also provide information and content to research partners and academics to conduct research that advances scholarship and innovation that supports our business or mission and enhances discovery and innovation on topics of general social welfare technological advancement public interest health and wellbeing', 'law enforcement or legal requests', 'we share information with law enforcement or in response to legal requests in the circumstances outlined below', 'learn more about how you can control the information about you that you or others share with thirdparty partners in the facebook settings and instagram settings', 'iv', 'how do the meta companies work together', 'facebook and instagram share infrastructure systems and technology with other meta companies which include whatsapp and oculus to provide an innovative relevant consistent and safe experience across all meta company products that you use', 'we also process information about you across the meta companies for these purposes as permitted by applicable law and in accordance with their terms and policies', 'for example we process information from whatsapp about accounts sending spam on its service so we can take appropriate action against those accounts on facebook instagram or messenger', 'we also work to understand how people use and interact with meta company products such as understanding the number of unique users on different meta company products', 'v how can i manage or delete information about me', 'we provide you with the ability to access rectify port and delete your data', 'learn more in your facebook settings and instagram settings', 'we store data until it is no longer necessary to provide our services and meta products or until your account is deleted whichever comes first', 'this is a casebycase determination that depends on things such as the nature of the data why it is collected and processed and relevant legal or operational retention needs', 'for example when you search for something on facebook you can access and delete that query from within your search history at any time but the log of that search is deleted after six months', 'if you submit a copy of your governmentissued id for account verification purposes we delete that copy 30 days after review unless otherwise stated', 'learn more about deletion of content that you have shared and cookie data obtained through social plugins', 'when you delete your account we delete things that you have posted such as your photos and status updates and you would not be able to recover this information later', 'information that others have shared about you is nt part of your account and would not be deleted', 'if you do not want to delete your account but want to temporarily stop using the products you can deactivate your account instead', 'to delete your account at any time please visit the facebook settings and instagram settings', 'vi', 'how do we respond to legal requests or prevent harm', 'we access preserve and share your information with regulators law enforcement or others in response to a legal request eg', 'a search warrant court order or subpoena if we have a goodfaith belief that the law requires us to do so', 'this may include responding to legal requests from jurisdictions outside of the united states when we have a goodfaith belief that the response is required by law in that jurisdiction affects users in that jurisdiction and is consistent with internationally recognised standards', 'when we have a goodfaith belief that it is necessary to detect prevent and address fraud unauthorised use of the products breaches of our terms or policies or other harmful or illegal activity to protect ourselves including our rights property or products you or others including as part of investigations or regulatory enquiries or to prevent death or imminent bodily harm', 'for example if relevant we provide information to and receive information from thirdparty partners about the reliability of your account to prevent fraud abuse and other harmful activity on and off our products', 'information that we receive about you including financial transaction data related to purchases made on our products can be accessed and preserved for an extended period when it is the subject of a legal request or obligation governmental investigation or investigations of possible violations of our terms or policies or otherwise to prevent harm', 'we also retain information from accounts disabled for term breaches for at least a year to prevent repeat abuse or other term breaches', 'vii', 'how do we operate and transfer data as part of our global services', 'we share information globally both internally within the meta companies and externally with our partners and with those you connect and share with around the world in accordance with this policy', 'your information may for example be transferred or transmitted to or stored and processed in the united states or other countries outside of where you live for the purposes as described in this policy', 'these data transfers are necessary to provide the services set forth in the meta terms and instagram terms and to globally operate and provide our products to you', 'we utilise standard contract clauses rely on the european commission s adequacy decisions about certain countries as applicable and obtain your consent for these data transfers to the united states and other countries']\n"
          ]
        }
      ]
    },
    {
      "cell_type": "code",
      "source": [
        "from nltk.corpus import stopwords\n",
        "def remove_stopwords(sentences):\n",
        "  stop_words=set(stopwords.words(\"english\"))\n",
        "   \n",
        "  sent_list=[]\n",
        "  for sent in sentences:\n",
        "    words=word_tokenize(sent)\n",
        "    words=[word for word in words if word not in stop_words]\n",
        "    words=\" \".join(words)\n",
        "    words=words.strip()\n",
        "    sent_list.append(words)\n",
        "  return sent_list\n",
        "\n",
        "sentences=remove_stopwords(sentences)\n",
        "print(sentences)"
      ],
      "metadata": {
        "colab": {
          "base_uri": "https://localhost:8080/"
        },
        "id": "-9SSnkoSxE3x",
        "outputId": "ab4d99c6-e968-4b2b-c996-b9ceb2ba26bf"
      },
      "execution_count": null,
      "outputs": [
        {
          "output_type": "stream",
          "name": "stdout",
          "text": [
            "['', 'kinds information collect', 'provide meta products must process information', 'type information collect depends use products', 'learn access delete information collect visiting facebook settings instagram settings', 'things others provide', 'information content provide', 'collect content communications information provide use products including sign account create share content message communicate others', 'include information content provide eg', 'metadata location photo date file created', 'also include see features provide camera things suggest masks filters might like give tips using camera formats', 'systems automatically process content communications others provide analyse context purposes described', 'learn control see things share', 'data special protections choose provide information facebook profile fields life events religious views political views interested health', 'information racial ethnic origin philosophical beliefs trade union membership could subject special protections laws country', 'networks connections', 'collect information people accounts hashtags facebook groups pages connected interact across products people communicate groups part', 'also collect contact information choose upload sync import device address book call log sms log history use things helping others find people may know purposes listed', 'usage', 'collect information use products types content view engage features use actions take people accounts interact time frequency duration activities', 'example log using last used products posts videos content view products', 'also collect information use features camera', 'information transactions made products', 'use products purchases financial transactions make purchase game make donation collect information purchase transaction', 'includes payment information credit debit card number card information account authentication information billing delivery contact details', 'things others information provide', 'also receive analyse content communications information people provide use products', 'include information others share comment photo send message upload sync import contact information', 'device information', 'described collect information computers phones connected tvs webconnected devices use integrate products combine information across different devices use', 'example use information collected use products phone better personalise content including ads features see use products another device laptop tablet measure whether took action response ad showed phone different device', 'information obtain devices includes device attributes information operating system hardware software versions battery level signal strength available storage space browser type app file names types plugins', 'device operations information operations behaviours performed device whether window foreground background mouse movements help distinguish humans bots', 'identifiers unique identifiers device ids identifiers games apps accounts use family device ids identifiers unique meta company products associated device account', 'device signals bluetooth signals information nearby wifi access points beacons mobile phone masts', 'data device settings information allow us receive device settings turn access gps location camera photos', 'network connections information name mobile operator isp language time zone mobile phone number ip address connection speed cases information devices nearby network things help stream video phone tv', 'cookie data data cookies stored device including cookie ids settings', 'learn use cookies facebook cookies policy instagram cookies policy', 'information partners', 'advertisers app developers publishers send us information meta business tools use including social plugins like button facebook login apis sdks meta pixel', 'partners provide information activities products including information device websites visit purchases make ads see use services whether account logged products', 'example game developer could use api tell us games play business could tell us purchase made shop', 'also receive information online offline actions purchases thirdparty data providers rights provide us information', 'partners receive data visit use services third parties work', 'require partners lawful rights collect use share data providing us data', 'learn types partners receive data', 'learn use cookies connection meta business tools review facebook cookies policy instagram cookies policy', 'ii', 'use information', 'use information subject choices make described provide support meta products related services described meta terms instagram terms', 'provide personalise improve products', 'use information deliver products including personalise features content including ads facebook news feed instagram feed instagram stories make suggestions groups events may interested topics may want follow products', 'create personalised products unique relevant use connections preferences interests activities based data collect learn others including data special protections choose provide use interact products people places things connected interested products', 'learn use information personalise facebook instagram experience including features content recommendations meta products also learn choose ads see', 'information across meta products devices connect information activities different meta products devices provide tailored consistent experience meta products use wherever use', 'example suggest join group facebook includes people follow instagram communicate using messenger', 'also make experience seamless example automatically filling registration information phone number one meta product sign account different product', 'locationrelated information use locationrelated information current location live places like go businesses people near provide personalise improve products including ads others', 'locationrelated information based things precise device location allowed us collect ip addresses information others use meta products checkins events attend', 'product research development use information develop test improve products including conducting surveys research testing troubleshooting new products features', 'ads sponsored content use information including information interests actions connections select personalise ads offers sponsored content show', 'learn select personalise ads choices data use select ads sponsored content facebook settings instagram settings', 'providing measurement analytics business services', 'use information including activity products websites visit ads see help advertisers partners measure effectiveness distribution ads services understand types people use services people interact websites apps services', 'learn share information partners', 'promoting safety integrity security', 'use information verify accounts activity combat harmful conduct detect prevent spam bad experiences maintain integrity products promote safety security meta products', 'example use data investigate suspicious activity violations terms policies detect someone needs help', 'learn visit facebook security help centre instagram security tips', 'communicate', 'use information send marketing communications communicate products let know policies terms', 'also use information respond contact us', 'researching innovating social good', 'use information including research partners collaborate conduct support research innovation topics general social welfare technological advancement public interest health wellbeing', 'example analyse information migration patterns crises aid relief efforts', 'learn research programmes', 'iii', 'information shared', 'information shared others following ways sharing meta products people accounts share communicate share communicate using products choose audience share', 'example post facebook select audience post group friends public customised list people', 'similarly use messenger instagram communicate people businesses people businesses see content send', 'network also see actions taken products including engagement ads sponsored content', 'also let accounts see viewed facebook instagram stories', 'public information seen anyone products including account', 'includes instagram username information share public audience information public profile facebook content share facebook page public instagram account public forum facebook marketplace', 'people using facebook instagram provide access send public information anyone products including meta company products search results tools apis', 'public information also seen accessed reshared downloaded thirdparty services search engines apis offline media tv apps websites services integrate products', 'learn information public control visibility facebook instagram', 'content others share reshare', 'consider choose share people see activity products choose share others products including people businesses outside audience shared', 'example share post send message specific friends accounts download screenshot reshare content others across products person virtual reality experiences horizon worlds', 'also comment someone else post react content comment reaction visible anyone see person content person able change audience later', 'people also use products create share content audience choose', 'example people share photo story mention tag location post share information posts messages', 'uncomfortable others shared products learn report content', 'information active status presence products', 'people networks see signals telling whether active products including whether currently active instagram messenger facebook last used products', 'apps websites thirdparty integrations using products', 'choose use thirdparty apps websites services use integrated products receive information post share', 'example play game facebook friends use facebook comment share button website game developer website receive information activities game receive comment link share website facebook', 'also download use thirdparty services access public profile facebook information share', 'apps websites use may receive list facebook friends choose share', 'apps websites use able receive information facebook friends information instagram followers although friends followers may course choose share information', 'information collected thirdparty services subject terms policies one', 'devices operating systems providing native versions facebook instagram ie', 'developed firstparty apps access information choose share including information friends share provide core functionality', 'note process restricting developers data access even help prevent abuse', 'example remove developers access facebook instagram data nt used app three months changing login next version reduce data app request without app review include name instagram username bio profile photo email address', 'requesting data require approval', 'new owner', 'ownership control part products assets changes may transfer information new owner', 'sharing thirdparty partners work thirdparty partners help us provide improve products use meta business tools grow businesses makes possible operate companies provide free services people around world', 'sell information anyone never', 'also impose strict restrictions partners use disclose data provide', 'types third parties share information partners use analytics services', 'provide aggregated statistics insights help people businesses understand people engaging posts listings facebook pages videos content meta products', 'example facebook page admins instagram business profiles receive information number people accounts viewed reacted commented posts well aggregate demographic information helps understand interactions account facebook page', 'advertisers', 'provide advertisers reports kinds people seeing ads ads performing share information personally identifies information name email address used contact identifies unless give us permission', 'example provide general demographic interest information advertisers example ad seen woman ages 25 34 lives madrid likes software engineering help better understand audience', 'also confirm ads led make purchase take action advertiser', 'measurement partners', 'share information companies aggregate provide analytics measurement reports partners', 'partners offering goods services products', 'subscribe receive premium content buy something seller products content creator seller receive public information information share well information needed complete transaction including shipping contact details', 'vendors service providers', 'provide information content vendors service providers support business providing technical infrastructure services analysing products used providing customer service facilitating payments conducting surveys', 'researchers academics', 'also provide information content research partners academics conduct research advances scholarship innovation supports business mission enhances discovery innovation topics general social welfare technological advancement public interest health wellbeing', 'law enforcement legal requests', 'share information law enforcement response legal requests circumstances outlined', 'learn control information others share thirdparty partners facebook settings instagram settings', 'iv', 'meta companies work together', 'facebook instagram share infrastructure systems technology meta companies include whatsapp oculus provide innovative relevant consistent safe experience across meta company products use', 'also process information across meta companies purposes permitted applicable law accordance terms policies', 'example process information whatsapp accounts sending spam service take appropriate action accounts facebook instagram messenger', 'also work understand people use interact meta company products understanding number unique users different meta company products', 'v manage delete information', 'provide ability access rectify port delete data', 'learn facebook settings instagram settings', 'store data longer necessary provide services meta products account deleted whichever comes first', 'casebycase determination depends things nature data collected processed relevant legal operational retention needs', 'example search something facebook access delete query within search history time log search deleted six months', 'submit copy governmentissued id account verification purposes delete copy 30 days review unless otherwise stated', 'learn deletion content shared cookie data obtained social plugins', 'delete account delete things posted photos status updates would able recover information later', 'information others shared nt part account would deleted', 'want delete account want temporarily stop using products deactivate account instead', 'delete account time please visit facebook settings instagram settings', 'vi', 'respond legal requests prevent harm', 'access preserve share information regulators law enforcement others response legal request eg', 'search warrant court order subpoena goodfaith belief law requires us', 'may include responding legal requests jurisdictions outside united states goodfaith belief response required law jurisdiction affects users jurisdiction consistent internationally recognised standards', 'goodfaith belief necessary detect prevent address fraud unauthorised use products breaches terms policies harmful illegal activity protect including rights property products others including part investigations regulatory enquiries prevent death imminent bodily harm', 'example relevant provide information receive information thirdparty partners reliability account prevent fraud abuse harmful activity products', 'information receive including financial transaction data related purchases made products accessed preserved extended period subject legal request obligation governmental investigation investigations possible violations terms policies otherwise prevent harm', 'also retain information accounts disabled term breaches least year prevent repeat abuse term breaches', 'vii', 'operate transfer data part global services', 'share information globally internally within meta companies externally partners connect share around world accordance policy', 'information may example transferred transmitted stored processed united states countries outside live purposes described policy', 'data transfers necessary provide services set forth meta terms instagram terms globally operate provide products', 'utilise standard contract clauses rely european commission adequacy decisions certain countries applicable obtain consent data transfers united states countries']\n"
          ]
        }
      ]
    },
    {
      "cell_type": "code",
      "source": [
        "from nltk.stem import PorterStemmer\n",
        "\n",
        "def remove_stemming(sentences):\n",
        "  stemmer=PorterStemmer()\n",
        "  sent_list=[]\n",
        "  for sent in sentences:\n",
        "    words=word_tokenize(sent)\n",
        "    words=[stemmer.stem(word) for word in words]\n",
        "    words=\" \".join(words)\n",
        "    sent_list.append(words)\n",
        "  return sent_list\n",
        "\n",
        "sentences=remove_stemming(sentences)\n",
        "print(sentences)"
      ],
      "metadata": {
        "colab": {
          "base_uri": "https://localhost:8080/"
        },
        "id": "O4Itg_oSxHTY",
        "outputId": "37063691-db47-4591-b1bd-d2cd5f4a5eb3"
      },
      "execution_count": null,
      "outputs": [
        {
          "output_type": "stream",
          "name": "stdout",
          "text": [
            "['', 'kind inform collect', 'provid meta product must process inform', 'type inform collect depend use product', 'learn access delet inform collect visit facebook set instagram set', 'thing other provid', 'inform content provid', 'collect content commun inform provid use product includ sign account creat share content messag commun other', 'includ inform content provid eg', 'metadata locat photo date file creat', 'also includ see featur provid camera thing suggest mask filter might like give tip use camera format', 'system automat process content commun other provid analys context purpos describ', 'learn control see thing share', 'data special protect choos provid inform facebook profil field life event religi view polit view interest health', 'inform racial ethnic origin philosoph belief trade union membership could subject special protect law countri', 'network connect', 'collect inform peopl account hashtag facebook group page connect interact across product peopl commun group part', 'also collect contact inform choos upload sync import devic address book call log sm log histori use thing help other find peopl may know purpos list', 'usag', 'collect inform use product type content view engag featur use action take peopl account interact time frequenc durat activ', 'exampl log use last use product post video content view product', 'also collect inform use featur camera', 'inform transact made product', 'use product purchas financi transact make purchas game make donat collect inform purchas transact', 'includ payment inform credit debit card number card inform account authent inform bill deliveri contact detail', 'thing other inform provid', 'also receiv analys content commun inform peopl provid use product', 'includ inform other share comment photo send messag upload sync import contact inform', 'devic inform', 'describ collect inform comput phone connect tv webconnect devic use integr product combin inform across differ devic use', 'exampl use inform collect use product phone better personalis content includ ad featur see use product anoth devic laptop tablet measur whether took action respons ad show phone differ devic', 'inform obtain devic includ devic attribut inform oper system hardwar softwar version batteri level signal strength avail storag space browser type app file name type plugin', 'devic oper inform oper behaviour perform devic whether window foreground background mous movement help distinguish human bot', 'identifi uniqu identifi devic id identifi game app account use famili devic id identifi uniqu meta compani product associ devic account', 'devic signal bluetooth signal inform nearbi wifi access point beacon mobil phone mast', 'data devic set inform allow us receiv devic set turn access gp locat camera photo', 'network connect inform name mobil oper isp languag time zone mobil phone number ip address connect speed case inform devic nearbi network thing help stream video phone tv', 'cooki data data cooki store devic includ cooki id set', 'learn use cooki facebook cooki polici instagram cooki polici', 'inform partner', 'advertis app develop publish send us inform meta busi tool use includ social plugin like button facebook login api sdk meta pixel', 'partner provid inform activ product includ inform devic websit visit purchas make ad see use servic whether account log product', 'exampl game develop could use api tell us game play busi could tell us purchas made shop', 'also receiv inform onlin offlin action purchas thirdparti data provid right provid us inform', 'partner receiv data visit use servic third parti work', 'requir partner law right collect use share data provid us data', 'learn type partner receiv data', 'learn use cooki connect meta busi tool review facebook cooki polici instagram cooki polici', 'ii', 'use inform', 'use inform subject choic make describ provid support meta product relat servic describ meta term instagram term', 'provid personalis improv product', 'use inform deliv product includ personalis featur content includ ad facebook news feed instagram feed instagram stori make suggest group event may interest topic may want follow product', 'creat personalis product uniqu relev use connect prefer interest activ base data collect learn other includ data special protect choos provid use interact product peopl place thing connect interest product', 'learn use inform personalis facebook instagram experi includ featur content recommend meta product also learn choos ad see', 'inform across meta product devic connect inform activ differ meta product devic provid tailor consist experi meta product use wherev use', 'exampl suggest join group facebook includ peopl follow instagram commun use messeng', 'also make experi seamless exampl automat fill registr inform phone number one meta product sign account differ product', 'locationrel inform use locationrel inform current locat live place like go busi peopl near provid personalis improv product includ ad other', 'locationrel inform base thing precis devic locat allow us collect ip address inform other use meta product checkin event attend', 'product research develop use inform develop test improv product includ conduct survey research test troubleshoot new product featur', 'ad sponsor content use inform includ inform interest action connect select personalis ad offer sponsor content show', 'learn select personalis ad choic data use select ad sponsor content facebook set instagram set', 'provid measur analyt busi servic', 'use inform includ activ product websit visit ad see help advertis partner measur effect distribut ad servic understand type peopl use servic peopl interact websit app servic', 'learn share inform partner', 'promot safeti integr secur', 'use inform verifi account activ combat harm conduct detect prevent spam bad experi maintain integr product promot safeti secur meta product', 'exampl use data investig suspici activ violat term polici detect someon need help', 'learn visit facebook secur help centr instagram secur tip', 'commun', 'use inform send market commun commun product let know polici term', 'also use inform respond contact us', 'research innov social good', 'use inform includ research partner collabor conduct support research innov topic gener social welfar technolog advanc public interest health wellb', 'exampl analys inform migrat pattern crise aid relief effort', 'learn research programm', 'iii', 'inform share', 'inform share other follow way share meta product peopl account share commun share commun use product choos audienc share', 'exampl post facebook select audienc post group friend public customis list peopl', 'similarli use messeng instagram commun peopl busi peopl busi see content send', 'network also see action taken product includ engag ad sponsor content', 'also let account see view facebook instagram stori', 'public inform seen anyon product includ account', 'includ instagram usernam inform share public audienc inform public profil facebook content share facebook page public instagram account public forum facebook marketplac', 'peopl use facebook instagram provid access send public inform anyon product includ meta compani product search result tool api', 'public inform also seen access reshar download thirdparti servic search engin api offlin media tv app websit servic integr product', 'learn inform public control visibl facebook instagram', 'content other share reshar', 'consid choos share peopl see activ product choos share other product includ peopl busi outsid audienc share', 'exampl share post send messag specif friend account download screenshot reshar content other across product person virtual realiti experi horizon world', 'also comment someon els post react content comment reaction visibl anyon see person content person abl chang audienc later', 'peopl also use product creat share content audienc choos', 'exampl peopl share photo stori mention tag locat post share inform post messag', 'uncomfort other share product learn report content', 'inform activ statu presenc product', 'peopl network see signal tell whether activ product includ whether current activ instagram messeng facebook last use product', 'app websit thirdparti integr use product', 'choos use thirdparti app websit servic use integr product receiv inform post share', 'exampl play game facebook friend use facebook comment share button websit game develop websit receiv inform activ game receiv comment link share websit facebook', 'also download use thirdparti servic access public profil facebook inform share', 'app websit use may receiv list facebook friend choos share', 'app websit use abl receiv inform facebook friend inform instagram follow although friend follow may cours choos share inform', 'inform collect thirdparti servic subject term polici one', 'devic oper system provid nativ version facebook instagram ie', 'develop firstparti app access inform choos share includ inform friend share provid core function', 'note process restrict develop data access even help prevent abus', 'exampl remov develop access facebook instagram data nt use app three month chang login next version reduc data app request without app review includ name instagram usernam bio profil photo email address', 'request data requir approv', 'new owner', 'ownership control part product asset chang may transfer inform new owner', 'share thirdparti partner work thirdparti partner help us provid improv product use meta busi tool grow busi make possibl oper compani provid free servic peopl around world', 'sell inform anyon never', 'also impos strict restrict partner use disclos data provid', 'type third parti share inform partner use analyt servic', 'provid aggreg statist insight help peopl busi understand peopl engag post list facebook page video content meta product', 'exampl facebook page admin instagram busi profil receiv inform number peopl account view react comment post well aggreg demograph inform help understand interact account facebook page', 'advertis', 'provid advertis report kind peopl see ad ad perform share inform person identifi inform name email address use contact identifi unless give us permiss', 'exampl provid gener demograph interest inform advertis exampl ad seen woman age 25 34 live madrid like softwar engin help better understand audienc', 'also confirm ad led make purchas take action advertis', 'measur partner', 'share inform compani aggreg provid analyt measur report partner', 'partner offer good servic product', 'subscrib receiv premium content buy someth seller product content creator seller receiv public inform inform share well inform need complet transact includ ship contact detail', 'vendor servic provid', 'provid inform content vendor servic provid support busi provid technic infrastructur servic analys product use provid custom servic facilit payment conduct survey', 'research academ', 'also provid inform content research partner academ conduct research advanc scholarship innov support busi mission enhanc discoveri innov topic gener social welfar technolog advanc public interest health wellb', 'law enforc legal request', 'share inform law enforc respons legal request circumst outlin', 'learn control inform other share thirdparti partner facebook set instagram set', 'iv', 'meta compani work togeth', 'facebook instagram share infrastructur system technolog meta compani includ whatsapp oculu provid innov relev consist safe experi across meta compani product use', 'also process inform across meta compani purpos permit applic law accord term polici', 'exampl process inform whatsapp account send spam servic take appropri action account facebook instagram messeng', 'also work understand peopl use interact meta compani product understand number uniqu user differ meta compani product', 'v manag delet inform', 'provid abil access rectifi port delet data', 'learn facebook set instagram set', 'store data longer necessari provid servic meta product account delet whichev come first', 'casebycas determin depend thing natur data collect process relev legal oper retent need', 'exampl search someth facebook access delet queri within search histori time log search delet six month', 'submit copi governmentissu id account verif purpos delet copi 30 day review unless otherwis state', 'learn delet content share cooki data obtain social plugin', 'delet account delet thing post photo statu updat would abl recov inform later', 'inform other share nt part account would delet', 'want delet account want temporarili stop use product deactiv account instead', 'delet account time pleas visit facebook set instagram set', 'vi', 'respond legal request prevent harm', 'access preserv share inform regul law enforc other respons legal request eg', 'search warrant court order subpoena goodfaith belief law requir us', 'may includ respond legal request jurisdict outsid unit state goodfaith belief respons requir law jurisdict affect user jurisdict consist intern recognis standard', 'goodfaith belief necessari detect prevent address fraud unauthoris use product breach term polici harm illeg activ protect includ right properti product other includ part investig regulatori enquiri prevent death immin bodili harm', 'exampl relev provid inform receiv inform thirdparti partner reliabl account prevent fraud abus harm activ product', 'inform receiv includ financi transact data relat purchas made product access preserv extend period subject legal request oblig government investig investig possibl violat term polici otherwis prevent harm', 'also retain inform account disabl term breach least year prevent repeat abus term breach', 'vii', 'oper transfer data part global servic', 'share inform global intern within meta compani extern partner connect share around world accord polici', 'inform may exampl transfer transmit store process unit state countri outsid live purpos describ polici', 'data transfer necessari provid servic set forth meta term instagram term global oper provid product', 'utilis standard contract claus reli european commiss adequaci decis certain countri applic obtain consent data transfer unit state countri']\n"
          ]
        }
      ]
    },
    {
      "cell_type": "code",
      "source": [
        "def senetence_information(sentences):\n",
        "  sent_info=[]\n",
        "  for i,sent in enumerate(sentences):\n",
        "    words=word_tokenize(sent)\n",
        "    sent_dict={\"sent_id\":i,\"sent_word_count\":len(words)}\n",
        "    sent_info.append(sent_dict)\n",
        "    \n",
        "  return sent_info\n",
        "    \n",
        "sent_info=senetence_information(sentences)\n",
        "print(sent_info)"
      ],
      "metadata": {
        "colab": {
          "base_uri": "https://localhost:8080/"
        },
        "id": "pFJJTzvfxI2J",
        "outputId": "458591a7-bc9e-47af-c90e-2e7a2ec648bf"
      },
      "execution_count": null,
      "outputs": [
        {
          "output_type": "stream",
          "name": "stdout",
          "text": [
            "[{'sent_id': 0, 'sent_word_count': 0}, {'sent_id': 1, 'sent_word_count': 3}, {'sent_id': 2, 'sent_word_count': 6}, {'sent_id': 3, 'sent_word_count': 6}, {'sent_id': 4, 'sent_word_count': 10}, {'sent_id': 5, 'sent_word_count': 3}, {'sent_id': 6, 'sent_word_count': 3}, {'sent_id': 7, 'sent_word_count': 16}, {'sent_id': 8, 'sent_word_count': 5}, {'sent_id': 9, 'sent_word_count': 6}, {'sent_id': 10, 'sent_word_count': 17}, {'sent_id': 11, 'sent_word_count': 11}, {'sent_id': 12, 'sent_word_count': 5}, {'sent_id': 13, 'sent_word_count': 17}, {'sent_id': 14, 'sent_word_count': 15}, {'sent_id': 15, 'sent_word_count': 2}, {'sent_id': 16, 'sent_word_count': 16}, {'sent_id': 17, 'sent_word_count': 26}, {'sent_id': 18, 'sent_word_count': 1}, {'sent_id': 19, 'sent_word_count': 19}, {'sent_id': 20, 'sent_word_count': 11}, {'sent_id': 21, 'sent_word_count': 6}, {'sent_id': 22, 'sent_word_count': 4}, {'sent_id': 23, 'sent_word_count': 14}, {'sent_id': 24, 'sent_word_count': 16}, {'sent_id': 25, 'sent_word_count': 4}, {'sent_id': 26, 'sent_word_count': 10}, {'sent_id': 27, 'sent_word_count': 13}, {'sent_id': 28, 'sent_word_count': 2}, {'sent_id': 29, 'sent_word_count': 18}, {'sent_id': 30, 'sent_word_count': 30}, {'sent_id': 31, 'sent_word_count': 26}, {'sent_id': 32, 'sent_word_count': 17}, {'sent_id': 33, 'sent_word_count': 21}, {'sent_id': 34, 'sent_word_count': 13}, {'sent_id': 35, 'sent_word_count': 15}, {'sent_id': 36, 'sent_word_count': 28}, {'sent_id': 37, 'sent_word_count': 10}, {'sent_id': 38, 'sent_word_count': 9}, {'sent_id': 39, 'sent_word_count': 2}, {'sent_id': 40, 'sent_word_count': 22}, {'sent_id': 41, 'sent_word_count': 20}, {'sent_id': 42, 'sent_word_count': 17}, {'sent_id': 43, 'sent_word_count': 14}, {'sent_id': 44, 'sent_word_count': 9}, {'sent_id': 45, 'sent_word_count': 11}, {'sent_id': 46, 'sent_word_count': 5}, {'sent_id': 47, 'sent_word_count': 14}, {'sent_id': 48, 'sent_word_count': 1}, {'sent_id': 49, 'sent_word_count': 2}, {'sent_id': 50, 'sent_word_count': 17}, {'sent_id': 51, 'sent_word_count': 4}, {'sent_id': 52, 'sent_word_count': 28}, {'sent_id': 53, 'sent_word_count': 30}, {'sent_id': 54, 'sent_word_count': 18}, {'sent_id': 55, 'sent_word_count': 21}, {'sent_id': 56, 'sent_word_count': 12}, {'sent_id': 57, 'sent_word_count': 18}, {'sent_id': 58, 'sent_word_count': 21}, {'sent_id': 59, 'sent_word_count': 20}, {'sent_id': 60, 'sent_word_count': 18}, {'sent_id': 61, 'sent_word_count': 17}, {'sent_id': 62, 'sent_word_count': 15}, {'sent_id': 63, 'sent_word_count': 5}, {'sent_id': 64, 'sent_word_count': 27}, {'sent_id': 65, 'sent_word_count': 4}, {'sent_id': 66, 'sent_word_count': 4}, {'sent_id': 67, 'sent_word_count': 21}, {'sent_id': 68, 'sent_word_count': 13}, {'sent_id': 69, 'sent_word_count': 9}, {'sent_id': 70, 'sent_word_count': 1}, {'sent_id': 71, 'sent_word_count': 11}, {'sent_id': 72, 'sent_word_count': 6}, {'sent_id': 73, 'sent_word_count': 4}, {'sent_id': 74, 'sent_word_count': 20}, {'sent_id': 75, 'sent_word_count': 9}, {'sent_id': 76, 'sent_word_count': 3}, {'sent_id': 77, 'sent_word_count': 1}, {'sent_id': 78, 'sent_word_count': 2}, {'sent_id': 79, 'sent_word_count': 19}, {'sent_id': 80, 'sent_word_count': 12}, {'sent_id': 81, 'sent_word_count': 12}, {'sent_id': 82, 'sent_word_count': 11}, {'sent_id': 83, 'sent_word_count': 8}, {'sent_id': 84, 'sent_word_count': 7}, {'sent_id': 85, 'sent_word_count': 22}, {'sent_id': 86, 'sent_word_count': 19}, {'sent_id': 87, 'sent_word_count': 20}, {'sent_id': 88, 'sent_word_count': 7}, {'sent_id': 89, 'sent_word_count': 4}, {'sent_id': 90, 'sent_word_count': 17}, {'sent_id': 91, 'sent_word_count': 21}, {'sent_id': 92, 'sent_word_count': 19}, {'sent_id': 93, 'sent_word_count': 9}, {'sent_id': 94, 'sent_word_count': 13}, {'sent_id': 95, 'sent_word_count': 7}, {'sent_id': 96, 'sent_word_count': 5}, {'sent_id': 97, 'sent_word_count': 18}, {'sent_id': 98, 'sent_word_count': 6}, {'sent_id': 99, 'sent_word_count': 13}, {'sent_id': 100, 'sent_word_count': 24}, {'sent_id': 101, 'sent_word_count': 11}, {'sent_id': 102, 'sent_word_count': 10}, {'sent_id': 103, 'sent_word_count': 19}, {'sent_id': 104, 'sent_word_count': 8}, {'sent_id': 105, 'sent_word_count': 9}, {'sent_id': 106, 'sent_word_count': 14}, {'sent_id': 107, 'sent_word_count': 10}, {'sent_id': 108, 'sent_word_count': 32}, {'sent_id': 109, 'sent_word_count': 4}, {'sent_id': 110, 'sent_word_count': 2}, {'sent_id': 111, 'sent_word_count': 11}, {'sent_id': 112, 'sent_word_count': 27}, {'sent_id': 113, 'sent_word_count': 4}, {'sent_id': 114, 'sent_word_count': 9}, {'sent_id': 115, 'sent_word_count': 9}, {'sent_id': 116, 'sent_word_count': 18}, {'sent_id': 117, 'sent_word_count': 26}, {'sent_id': 118, 'sent_word_count': 1}, {'sent_id': 119, 'sent_word_count': 24}, {'sent_id': 120, 'sent_word_count': 23}, {'sent_id': 121, 'sent_word_count': 9}, {'sent_id': 122, 'sent_word_count': 2}, {'sent_id': 123, 'sent_word_count': 9}, {'sent_id': 124, 'sent_word_count': 5}, {'sent_id': 125, 'sent_word_count': 25}, {'sent_id': 126, 'sent_word_count': 3}, {'sent_id': 127, 'sent_word_count': 22}, {'sent_id': 128, 'sent_word_count': 2}, {'sent_id': 129, 'sent_word_count': 28}, {'sent_id': 130, 'sent_word_count': 4}, {'sent_id': 131, 'sent_word_count': 9}, {'sent_id': 132, 'sent_word_count': 11}, {'sent_id': 133, 'sent_word_count': 1}, {'sent_id': 134, 'sent_word_count': 4}, {'sent_id': 135, 'sent_word_count': 22}, {'sent_id': 136, 'sent_word_count': 13}, {'sent_id': 137, 'sent_word_count': 15}, {'sent_id': 138, 'sent_word_count': 17}, {'sent_id': 139, 'sent_word_count': 4}, {'sent_id': 140, 'sent_word_count': 7}, {'sent_id': 141, 'sent_word_count': 5}, {'sent_id': 142, 'sent_word_count': 13}, {'sent_id': 143, 'sent_word_count': 13}, {'sent_id': 144, 'sent_word_count': 16}, {'sent_id': 145, 'sent_word_count': 15}, {'sent_id': 146, 'sent_word_count': 9}, {'sent_id': 147, 'sent_word_count': 13}, {'sent_id': 148, 'sent_word_count': 8}, {'sent_id': 149, 'sent_word_count': 11}, {'sent_id': 150, 'sent_word_count': 9}, {'sent_id': 151, 'sent_word_count': 1}, {'sent_id': 152, 'sent_word_count': 5}, {'sent_id': 153, 'sent_word_count': 12}, {'sent_id': 154, 'sent_word_count': 10}, {'sent_id': 155, 'sent_word_count': 22}, {'sent_id': 156, 'sent_word_count': 32}, {'sent_id': 157, 'sent_word_count': 16}, {'sent_id': 158, 'sent_word_count': 28}, {'sent_id': 159, 'sent_word_count': 14}, {'sent_id': 160, 'sent_word_count': 1}, {'sent_id': 161, 'sent_word_count': 6}, {'sent_id': 162, 'sent_word_count': 15}, {'sent_id': 163, 'sent_word_count': 15}, {'sent_id': 164, 'sent_word_count': 15}, {'sent_id': 165, 'sent_word_count': 19}]\n"
          ]
        }
      ]
    },
    {
      "cell_type": "code",
      "source": [
        "def frequency_of_words(sentences):\n",
        "  freq_info=[]\n",
        "  for i,sent in enumerate(sentences):\n",
        "    words=word_tokenize(sent)\n",
        "    frequency_dict={}\n",
        "    for word in words:\n",
        "      if word in frequency_dict.keys():\n",
        "        frequency_dict[word]=frequency_dict[word]+1\n",
        "      else:\n",
        "        frequency_dict[word]=1\n",
        "    temp={\"sent_id\":i,\"frequency_of_word\":frequency_dict}\n",
        "    freq_info.append(temp)\n",
        "    \n",
        "  return freq_info\n",
        "\n",
        "freq_info=frequency_of_words(sentences)\n",
        "    \n",
        "print(freq_info)"
      ],
      "metadata": {
        "colab": {
          "base_uri": "https://localhost:8080/"
        },
        "id": "zeYM1oowxKkh",
        "outputId": "7940b269-ae0c-4484-a9f1-688ff3401d48"
      },
      "execution_count": null,
      "outputs": [
        {
          "output_type": "stream",
          "name": "stdout",
          "text": [
            "[{'sent_id': 0, 'frequency_of_word': {}}, {'sent_id': 1, 'frequency_of_word': {'kind': 1, 'inform': 1, 'collect': 1}}, {'sent_id': 2, 'frequency_of_word': {'provid': 1, 'meta': 1, 'product': 1, 'must': 1, 'process': 1, 'inform': 1}}, {'sent_id': 3, 'frequency_of_word': {'type': 1, 'inform': 1, 'collect': 1, 'depend': 1, 'use': 1, 'product': 1}}, {'sent_id': 4, 'frequency_of_word': {'learn': 1, 'access': 1, 'delet': 1, 'inform': 1, 'collect': 1, 'visit': 1, 'facebook': 1, 'set': 2, 'instagram': 1}}, {'sent_id': 5, 'frequency_of_word': {'thing': 1, 'other': 1, 'provid': 1}}, {'sent_id': 6, 'frequency_of_word': {'inform': 1, 'content': 1, 'provid': 1}}, {'sent_id': 7, 'frequency_of_word': {'collect': 1, 'content': 2, 'commun': 2, 'inform': 1, 'provid': 1, 'use': 1, 'product': 1, 'includ': 1, 'sign': 1, 'account': 1, 'creat': 1, 'share': 1, 'messag': 1, 'other': 1}}, {'sent_id': 8, 'frequency_of_word': {'includ': 1, 'inform': 1, 'content': 1, 'provid': 1, 'eg': 1}}, {'sent_id': 9, 'frequency_of_word': {'metadata': 1, 'locat': 1, 'photo': 1, 'date': 1, 'file': 1, 'creat': 1}}, {'sent_id': 10, 'frequency_of_word': {'also': 1, 'includ': 1, 'see': 1, 'featur': 1, 'provid': 1, 'camera': 2, 'thing': 1, 'suggest': 1, 'mask': 1, 'filter': 1, 'might': 1, 'like': 1, 'give': 1, 'tip': 1, 'use': 1, 'format': 1}}, {'sent_id': 11, 'frequency_of_word': {'system': 1, 'automat': 1, 'process': 1, 'content': 1, 'commun': 1, 'other': 1, 'provid': 1, 'analys': 1, 'context': 1, 'purpos': 1, 'describ': 1}}, {'sent_id': 12, 'frequency_of_word': {'learn': 1, 'control': 1, 'see': 1, 'thing': 1, 'share': 1}}, {'sent_id': 13, 'frequency_of_word': {'data': 1, 'special': 1, 'protect': 1, 'choos': 1, 'provid': 1, 'inform': 1, 'facebook': 1, 'profil': 1, 'field': 1, 'life': 1, 'event': 1, 'religi': 1, 'view': 2, 'polit': 1, 'interest': 1, 'health': 1}}, {'sent_id': 14, 'frequency_of_word': {'inform': 1, 'racial': 1, 'ethnic': 1, 'origin': 1, 'philosoph': 1, 'belief': 1, 'trade': 1, 'union': 1, 'membership': 1, 'could': 1, 'subject': 1, 'special': 1, 'protect': 1, 'law': 1, 'countri': 1}}, {'sent_id': 15, 'frequency_of_word': {'network': 1, 'connect': 1}}, {'sent_id': 16, 'frequency_of_word': {'collect': 1, 'inform': 1, 'peopl': 2, 'account': 1, 'hashtag': 1, 'facebook': 1, 'group': 2, 'page': 1, 'connect': 1, 'interact': 1, 'across': 1, 'product': 1, 'commun': 1, 'part': 1}}, {'sent_id': 17, 'frequency_of_word': {'also': 1, 'collect': 1, 'contact': 1, 'inform': 1, 'choos': 1, 'upload': 1, 'sync': 1, 'import': 1, 'devic': 1, 'address': 1, 'book': 1, 'call': 1, 'log': 2, 'sm': 1, 'histori': 1, 'use': 1, 'thing': 1, 'help': 1, 'other': 1, 'find': 1, 'peopl': 1, 'may': 1, 'know': 1, 'purpos': 1, 'list': 1}}, {'sent_id': 18, 'frequency_of_word': {'usag': 1}}, {'sent_id': 19, 'frequency_of_word': {'collect': 1, 'inform': 1, 'use': 2, 'product': 1, 'type': 1, 'content': 1, 'view': 1, 'engag': 1, 'featur': 1, 'action': 1, 'take': 1, 'peopl': 1, 'account': 1, 'interact': 1, 'time': 1, 'frequenc': 1, 'durat': 1, 'activ': 1}}, {'sent_id': 20, 'frequency_of_word': {'exampl': 1, 'log': 1, 'use': 2, 'last': 1, 'product': 2, 'post': 1, 'video': 1, 'content': 1, 'view': 1}}, {'sent_id': 21, 'frequency_of_word': {'also': 1, 'collect': 1, 'inform': 1, 'use': 1, 'featur': 1, 'camera': 1}}, {'sent_id': 22, 'frequency_of_word': {'inform': 1, 'transact': 1, 'made': 1, 'product': 1}}, {'sent_id': 23, 'frequency_of_word': {'use': 1, 'product': 1, 'purchas': 3, 'financi': 1, 'transact': 2, 'make': 2, 'game': 1, 'donat': 1, 'collect': 1, 'inform': 1}}, {'sent_id': 24, 'frequency_of_word': {'includ': 1, 'payment': 1, 'inform': 3, 'credit': 1, 'debit': 1, 'card': 2, 'number': 1, 'account': 1, 'authent': 1, 'bill': 1, 'deliveri': 1, 'contact': 1, 'detail': 1}}, {'sent_id': 25, 'frequency_of_word': {'thing': 1, 'other': 1, 'inform': 1, 'provid': 1}}, {'sent_id': 26, 'frequency_of_word': {'also': 1, 'receiv': 1, 'analys': 1, 'content': 1, 'commun': 1, 'inform': 1, 'peopl': 1, 'provid': 1, 'use': 1, 'product': 1}}, {'sent_id': 27, 'frequency_of_word': {'includ': 1, 'inform': 2, 'other': 1, 'share': 1, 'comment': 1, 'photo': 1, 'send': 1, 'messag': 1, 'upload': 1, 'sync': 1, 'import': 1, 'contact': 1}}, {'sent_id': 28, 'frequency_of_word': {'devic': 1, 'inform': 1}}, {'sent_id': 29, 'frequency_of_word': {'describ': 1, 'collect': 1, 'inform': 2, 'comput': 1, 'phone': 1, 'connect': 1, 'tv': 1, 'webconnect': 1, 'devic': 2, 'use': 2, 'integr': 1, 'product': 1, 'combin': 1, 'across': 1, 'differ': 1}}, {'sent_id': 30, 'frequency_of_word': {'exampl': 1, 'use': 3, 'inform': 1, 'collect': 1, 'product': 2, 'phone': 2, 'better': 1, 'personalis': 1, 'content': 1, 'includ': 1, 'ad': 2, 'featur': 1, 'see': 1, 'anoth': 1, 'devic': 2, 'laptop': 1, 'tablet': 1, 'measur': 1, 'whether': 1, 'took': 1, 'action': 1, 'respons': 1, 'show': 1, 'differ': 1}}, {'sent_id': 31, 'frequency_of_word': {'inform': 2, 'obtain': 1, 'devic': 2, 'includ': 1, 'attribut': 1, 'oper': 1, 'system': 1, 'hardwar': 1, 'softwar': 1, 'version': 1, 'batteri': 1, 'level': 1, 'signal': 1, 'strength': 1, 'avail': 1, 'storag': 1, 'space': 1, 'browser': 1, 'type': 2, 'app': 1, 'file': 1, 'name': 1, 'plugin': 1}}, {'sent_id': 32, 'frequency_of_word': {'devic': 2, 'oper': 2, 'inform': 1, 'behaviour': 1, 'perform': 1, 'whether': 1, 'window': 1, 'foreground': 1, 'background': 1, 'mous': 1, 'movement': 1, 'help': 1, 'distinguish': 1, 'human': 1, 'bot': 1}}, {'sent_id': 33, 'frequency_of_word': {'identifi': 4, 'uniqu': 2, 'devic': 3, 'id': 2, 'game': 1, 'app': 1, 'account': 2, 'use': 1, 'famili': 1, 'meta': 1, 'compani': 1, 'product': 1, 'associ': 1}}, {'sent_id': 34, 'frequency_of_word': {'devic': 1, 'signal': 2, 'bluetooth': 1, 'inform': 1, 'nearbi': 1, 'wifi': 1, 'access': 1, 'point': 1, 'beacon': 1, 'mobil': 1, 'phone': 1, 'mast': 1}}, {'sent_id': 35, 'frequency_of_word': {'data': 1, 'devic': 2, 'set': 2, 'inform': 1, 'allow': 1, 'us': 1, 'receiv': 1, 'turn': 1, 'access': 1, 'gp': 1, 'locat': 1, 'camera': 1, 'photo': 1}}, {'sent_id': 36, 'frequency_of_word': {'network': 2, 'connect': 2, 'inform': 2, 'name': 1, 'mobil': 2, 'oper': 1, 'isp': 1, 'languag': 1, 'time': 1, 'zone': 1, 'phone': 2, 'number': 1, 'ip': 1, 'address': 1, 'speed': 1, 'case': 1, 'devic': 1, 'nearbi': 1, 'thing': 1, 'help': 1, 'stream': 1, 'video': 1, 'tv': 1}}, {'sent_id': 37, 'frequency_of_word': {'cooki': 3, 'data': 2, 'store': 1, 'devic': 1, 'includ': 1, 'id': 1, 'set': 1}}, {'sent_id': 38, 'frequency_of_word': {'learn': 1, 'use': 1, 'cooki': 3, 'facebook': 1, 'polici': 2, 'instagram': 1}}, {'sent_id': 39, 'frequency_of_word': {'inform': 1, 'partner': 1}}, {'sent_id': 40, 'frequency_of_word': {'advertis': 1, 'app': 1, 'develop': 1, 'publish': 1, 'send': 1, 'us': 1, 'inform': 1, 'meta': 2, 'busi': 1, 'tool': 1, 'use': 1, 'includ': 1, 'social': 1, 'plugin': 1, 'like': 1, 'button': 1, 'facebook': 1, 'login': 1, 'api': 1, 'sdk': 1, 'pixel': 1}}, {'sent_id': 41, 'frequency_of_word': {'partner': 1, 'provid': 1, 'inform': 2, 'activ': 1, 'product': 2, 'includ': 1, 'devic': 1, 'websit': 1, 'visit': 1, 'purchas': 1, 'make': 1, 'ad': 1, 'see': 1, 'use': 1, 'servic': 1, 'whether': 1, 'account': 1, 'log': 1}}, {'sent_id': 42, 'frequency_of_word': {'exampl': 1, 'game': 2, 'develop': 1, 'could': 2, 'use': 1, 'api': 1, 'tell': 2, 'us': 2, 'play': 1, 'busi': 1, 'purchas': 1, 'made': 1, 'shop': 1}}, {'sent_id': 43, 'frequency_of_word': {'also': 1, 'receiv': 1, 'inform': 2, 'onlin': 1, 'offlin': 1, 'action': 1, 'purchas': 1, 'thirdparti': 1, 'data': 1, 'provid': 2, 'right': 1, 'us': 1}}, {'sent_id': 44, 'frequency_of_word': {'partner': 1, 'receiv': 1, 'data': 1, 'visit': 1, 'use': 1, 'servic': 1, 'third': 1, 'parti': 1, 'work': 1}}, {'sent_id': 45, 'frequency_of_word': {'requir': 1, 'partner': 1, 'law': 1, 'right': 1, 'collect': 1, 'use': 1, 'share': 1, 'data': 2, 'provid': 1, 'us': 1}}, {'sent_id': 46, 'frequency_of_word': {'learn': 1, 'type': 1, 'partner': 1, 'receiv': 1, 'data': 1}}, {'sent_id': 47, 'frequency_of_word': {'learn': 1, 'use': 1, 'cooki': 3, 'connect': 1, 'meta': 1, 'busi': 1, 'tool': 1, 'review': 1, 'facebook': 1, 'polici': 2, 'instagram': 1}}, {'sent_id': 48, 'frequency_of_word': {'ii': 1}}, {'sent_id': 49, 'frequency_of_word': {'use': 1, 'inform': 1}}, {'sent_id': 50, 'frequency_of_word': {'use': 1, 'inform': 1, 'subject': 1, 'choic': 1, 'make': 1, 'describ': 2, 'provid': 1, 'support': 1, 'meta': 2, 'product': 1, 'relat': 1, 'servic': 1, 'term': 2, 'instagram': 1}}, {'sent_id': 51, 'frequency_of_word': {'provid': 1, 'personalis': 1, 'improv': 1, 'product': 1}}, {'sent_id': 52, 'frequency_of_word': {'use': 1, 'inform': 1, 'deliv': 1, 'product': 2, 'includ': 2, 'personalis': 1, 'featur': 1, 'content': 1, 'ad': 1, 'facebook': 1, 'news': 1, 'feed': 2, 'instagram': 2, 'stori': 1, 'make': 1, 'suggest': 1, 'group': 1, 'event': 1, 'may': 2, 'interest': 1, 'topic': 1, 'want': 1, 'follow': 1}}, {'sent_id': 53, 'frequency_of_word': {'creat': 1, 'personalis': 1, 'product': 3, 'uniqu': 1, 'relev': 1, 'use': 2, 'connect': 2, 'prefer': 1, 'interest': 2, 'activ': 1, 'base': 1, 'data': 2, 'collect': 1, 'learn': 1, 'other': 1, 'includ': 1, 'special': 1, 'protect': 1, 'choos': 1, 'provid': 1, 'interact': 1, 'peopl': 1, 'place': 1, 'thing': 1}}, {'sent_id': 54, 'frequency_of_word': {'learn': 2, 'use': 1, 'inform': 1, 'personalis': 1, 'facebook': 1, 'instagram': 1, 'experi': 1, 'includ': 1, 'featur': 1, 'content': 1, 'recommend': 1, 'meta': 1, 'product': 1, 'also': 1, 'choos': 1, 'ad': 1, 'see': 1}}, {'sent_id': 55, 'frequency_of_word': {'inform': 2, 'across': 1, 'meta': 3, 'product': 3, 'devic': 2, 'connect': 1, 'activ': 1, 'differ': 1, 'provid': 1, 'tailor': 1, 'consist': 1, 'experi': 1, 'use': 2, 'wherev': 1}}, {'sent_id': 56, 'frequency_of_word': {'exampl': 1, 'suggest': 1, 'join': 1, 'group': 1, 'facebook': 1, 'includ': 1, 'peopl': 1, 'follow': 1, 'instagram': 1, 'commun': 1, 'use': 1, 'messeng': 1}}, {'sent_id': 57, 'frequency_of_word': {'also': 1, 'make': 1, 'experi': 1, 'seamless': 1, 'exampl': 1, 'automat': 1, 'fill': 1, 'registr': 1, 'inform': 1, 'phone': 1, 'number': 1, 'one': 1, 'meta': 1, 'product': 2, 'sign': 1, 'account': 1, 'differ': 1}}, {'sent_id': 58, 'frequency_of_word': {'locationrel': 2, 'inform': 2, 'use': 1, 'current': 1, 'locat': 1, 'live': 1, 'place': 1, 'like': 1, 'go': 1, 'busi': 1, 'peopl': 1, 'near': 1, 'provid': 1, 'personalis': 1, 'improv': 1, 'product': 1, 'includ': 1, 'ad': 1, 'other': 1}}, {'sent_id': 59, 'frequency_of_word': {'locationrel': 1, 'inform': 2, 'base': 1, 'thing': 1, 'precis': 1, 'devic': 1, 'locat': 1, 'allow': 1, 'us': 1, 'collect': 1, 'ip': 1, 'address': 1, 'other': 1, 'use': 1, 'meta': 1, 'product': 1, 'checkin': 1, 'event': 1, 'attend': 1}}, {'sent_id': 60, 'frequency_of_word': {'product': 3, 'research': 2, 'develop': 2, 'use': 1, 'inform': 1, 'test': 2, 'improv': 1, 'includ': 1, 'conduct': 1, 'survey': 1, 'troubleshoot': 1, 'new': 1, 'featur': 1}}, {'sent_id': 61, 'frequency_of_word': {'ad': 2, 'sponsor': 2, 'content': 2, 'use': 1, 'inform': 2, 'includ': 1, 'interest': 1, 'action': 1, 'connect': 1, 'select': 1, 'personalis': 1, 'offer': 1, 'show': 1}}, {'sent_id': 62, 'frequency_of_word': {'learn': 1, 'select': 2, 'personalis': 1, 'ad': 2, 'choic': 1, 'data': 1, 'use': 1, 'sponsor': 1, 'content': 1, 'facebook': 1, 'set': 2, 'instagram': 1}}, {'sent_id': 63, 'frequency_of_word': {'provid': 1, 'measur': 1, 'analyt': 1, 'busi': 1, 'servic': 1}}, {'sent_id': 64, 'frequency_of_word': {'use': 2, 'inform': 1, 'includ': 1, 'activ': 1, 'product': 1, 'websit': 2, 'visit': 1, 'ad': 2, 'see': 1, 'help': 1, 'advertis': 1, 'partner': 1, 'measur': 1, 'effect': 1, 'distribut': 1, 'servic': 3, 'understand': 1, 'type': 1, 'peopl': 2, 'interact': 1, 'app': 1}}, {'sent_id': 65, 'frequency_of_word': {'learn': 1, 'share': 1, 'inform': 1, 'partner': 1}}, {'sent_id': 66, 'frequency_of_word': {'promot': 1, 'safeti': 1, 'integr': 1, 'secur': 1}}, {'sent_id': 67, 'frequency_of_word': {'use': 1, 'inform': 1, 'verifi': 1, 'account': 1, 'activ': 1, 'combat': 1, 'harm': 1, 'conduct': 1, 'detect': 1, 'prevent': 1, 'spam': 1, 'bad': 1, 'experi': 1, 'maintain': 1, 'integr': 1, 'product': 2, 'promot': 1, 'safeti': 1, 'secur': 1, 'meta': 1}}, {'sent_id': 68, 'frequency_of_word': {'exampl': 1, 'use': 1, 'data': 1, 'investig': 1, 'suspici': 1, 'activ': 1, 'violat': 1, 'term': 1, 'polici': 1, 'detect': 1, 'someon': 1, 'need': 1, 'help': 1}}, {'sent_id': 69, 'frequency_of_word': {'learn': 1, 'visit': 1, 'facebook': 1, 'secur': 2, 'help': 1, 'centr': 1, 'instagram': 1, 'tip': 1}}, {'sent_id': 70, 'frequency_of_word': {'commun': 1}}, {'sent_id': 71, 'frequency_of_word': {'use': 1, 'inform': 1, 'send': 1, 'market': 1, 'commun': 2, 'product': 1, 'let': 1, 'know': 1, 'polici': 1, 'term': 1}}, {'sent_id': 72, 'frequency_of_word': {'also': 1, 'use': 1, 'inform': 1, 'respond': 1, 'contact': 1, 'us': 1}}, {'sent_id': 73, 'frequency_of_word': {'research': 1, 'innov': 1, 'social': 1, 'good': 1}}, {'sent_id': 74, 'frequency_of_word': {'use': 1, 'inform': 1, 'includ': 1, 'research': 2, 'partner': 1, 'collabor': 1, 'conduct': 1, 'support': 1, 'innov': 1, 'topic': 1, 'gener': 1, 'social': 1, 'welfar': 1, 'technolog': 1, 'advanc': 1, 'public': 1, 'interest': 1, 'health': 1, 'wellb': 1}}, {'sent_id': 75, 'frequency_of_word': {'exampl': 1, 'analys': 1, 'inform': 1, 'migrat': 1, 'pattern': 1, 'crise': 1, 'aid': 1, 'relief': 1, 'effort': 1}}, {'sent_id': 76, 'frequency_of_word': {'learn': 1, 'research': 1, 'programm': 1}}, {'sent_id': 77, 'frequency_of_word': {'iii': 1}}, {'sent_id': 78, 'frequency_of_word': {'inform': 1, 'share': 1}}, {'sent_id': 79, 'frequency_of_word': {'inform': 1, 'share': 5, 'other': 1, 'follow': 1, 'way': 1, 'meta': 1, 'product': 2, 'peopl': 1, 'account': 1, 'commun': 2, 'use': 1, 'choos': 1, 'audienc': 1}}, {'sent_id': 80, 'frequency_of_word': {'exampl': 1, 'post': 2, 'facebook': 1, 'select': 1, 'audienc': 1, 'group': 1, 'friend': 1, 'public': 1, 'customis': 1, 'list': 1, 'peopl': 1}}, {'sent_id': 81, 'frequency_of_word': {'similarli': 1, 'use': 1, 'messeng': 1, 'instagram': 1, 'commun': 1, 'peopl': 2, 'busi': 2, 'see': 1, 'content': 1, 'send': 1}}, {'sent_id': 82, 'frequency_of_word': {'network': 1, 'also': 1, 'see': 1, 'action': 1, 'taken': 1, 'product': 1, 'includ': 1, 'engag': 1, 'ad': 1, 'sponsor': 1, 'content': 1}}, {'sent_id': 83, 'frequency_of_word': {'also': 1, 'let': 1, 'account': 1, 'see': 1, 'view': 1, 'facebook': 1, 'instagram': 1, 'stori': 1}}, {'sent_id': 84, 'frequency_of_word': {'public': 1, 'inform': 1, 'seen': 1, 'anyon': 1, 'product': 1, 'includ': 1, 'account': 1}}, {'sent_id': 85, 'frequency_of_word': {'includ': 1, 'instagram': 2, 'usernam': 1, 'inform': 2, 'share': 2, 'public': 4, 'audienc': 1, 'profil': 1, 'facebook': 3, 'content': 1, 'page': 1, 'account': 1, 'forum': 1, 'marketplac': 1}}, {'sent_id': 86, 'frequency_of_word': {'peopl': 1, 'use': 1, 'facebook': 1, 'instagram': 1, 'provid': 1, 'access': 1, 'send': 1, 'public': 1, 'inform': 1, 'anyon': 1, 'product': 2, 'includ': 1, 'meta': 1, 'compani': 1, 'search': 1, 'result': 1, 'tool': 1, 'api': 1}}, {'sent_id': 87, 'frequency_of_word': {'public': 1, 'inform': 1, 'also': 1, 'seen': 1, 'access': 1, 'reshar': 1, 'download': 1, 'thirdparti': 1, 'servic': 2, 'search': 1, 'engin': 1, 'api': 1, 'offlin': 1, 'media': 1, 'tv': 1, 'app': 1, 'websit': 1, 'integr': 1, 'product': 1}}, {'sent_id': 88, 'frequency_of_word': {'learn': 1, 'inform': 1, 'public': 1, 'control': 1, 'visibl': 1, 'facebook': 1, 'instagram': 1}}, {'sent_id': 89, 'frequency_of_word': {'content': 1, 'other': 1, 'share': 1, 'reshar': 1}}, {'sent_id': 90, 'frequency_of_word': {'consid': 1, 'choos': 2, 'share': 3, 'peopl': 2, 'see': 1, 'activ': 1, 'product': 2, 'other': 1, 'includ': 1, 'busi': 1, 'outsid': 1, 'audienc': 1}}, {'sent_id': 91, 'frequency_of_word': {'exampl': 1, 'share': 1, 'post': 1, 'send': 1, 'messag': 1, 'specif': 1, 'friend': 1, 'account': 1, 'download': 1, 'screenshot': 1, 'reshar': 1, 'content': 1, 'other': 1, 'across': 1, 'product': 1, 'person': 1, 'virtual': 1, 'realiti': 1, 'experi': 1, 'horizon': 1, 'world': 1}}, {'sent_id': 92, 'frequency_of_word': {'also': 1, 'comment': 2, 'someon': 1, 'els': 1, 'post': 1, 'react': 1, 'content': 2, 'reaction': 1, 'visibl': 1, 'anyon': 1, 'see': 1, 'person': 2, 'abl': 1, 'chang': 1, 'audienc': 1, 'later': 1}}, {'sent_id': 93, 'frequency_of_word': {'peopl': 1, 'also': 1, 'use': 1, 'product': 1, 'creat': 1, 'share': 1, 'content': 1, 'audienc': 1, 'choos': 1}}, {'sent_id': 94, 'frequency_of_word': {'exampl': 1, 'peopl': 1, 'share': 2, 'photo': 1, 'stori': 1, 'mention': 1, 'tag': 1, 'locat': 1, 'post': 2, 'inform': 1, 'messag': 1}}, {'sent_id': 95, 'frequency_of_word': {'uncomfort': 1, 'other': 1, 'share': 1, 'product': 1, 'learn': 1, 'report': 1, 'content': 1}}, {'sent_id': 96, 'frequency_of_word': {'inform': 1, 'activ': 1, 'statu': 1, 'presenc': 1, 'product': 1}}, {'sent_id': 97, 'frequency_of_word': {'peopl': 1, 'network': 1, 'see': 1, 'signal': 1, 'tell': 1, 'whether': 2, 'activ': 2, 'product': 2, 'includ': 1, 'current': 1, 'instagram': 1, 'messeng': 1, 'facebook': 1, 'last': 1, 'use': 1}}, {'sent_id': 98, 'frequency_of_word': {'app': 1, 'websit': 1, 'thirdparti': 1, 'integr': 1, 'use': 1, 'product': 1}}, {'sent_id': 99, 'frequency_of_word': {'choos': 1, 'use': 2, 'thirdparti': 1, 'app': 1, 'websit': 1, 'servic': 1, 'integr': 1, 'product': 1, 'receiv': 1, 'inform': 1, 'post': 1, 'share': 1}}, {'sent_id': 100, 'frequency_of_word': {'exampl': 1, 'play': 1, 'game': 3, 'facebook': 3, 'friend': 1, 'use': 1, 'comment': 2, 'share': 2, 'button': 1, 'websit': 3, 'develop': 1, 'receiv': 2, 'inform': 1, 'activ': 1, 'link': 1}}, {'sent_id': 101, 'frequency_of_word': {'also': 1, 'download': 1, 'use': 1, 'thirdparti': 1, 'servic': 1, 'access': 1, 'public': 1, 'profil': 1, 'facebook': 1, 'inform': 1, 'share': 1}}, {'sent_id': 102, 'frequency_of_word': {'app': 1, 'websit': 1, 'use': 1, 'may': 1, 'receiv': 1, 'list': 1, 'facebook': 1, 'friend': 1, 'choos': 1, 'share': 1}}, {'sent_id': 103, 'frequency_of_word': {'app': 1, 'websit': 1, 'use': 1, 'abl': 1, 'receiv': 1, 'inform': 3, 'facebook': 1, 'friend': 2, 'instagram': 1, 'follow': 2, 'although': 1, 'may': 1, 'cours': 1, 'choos': 1, 'share': 1}}, {'sent_id': 104, 'frequency_of_word': {'inform': 1, 'collect': 1, 'thirdparti': 1, 'servic': 1, 'subject': 1, 'term': 1, 'polici': 1, 'one': 1}}, {'sent_id': 105, 'frequency_of_word': {'devic': 1, 'oper': 1, 'system': 1, 'provid': 1, 'nativ': 1, 'version': 1, 'facebook': 1, 'instagram': 1, 'ie': 1}}, {'sent_id': 106, 'frequency_of_word': {'develop': 1, 'firstparti': 1, 'app': 1, 'access': 1, 'inform': 2, 'choos': 1, 'share': 2, 'includ': 1, 'friend': 1, 'provid': 1, 'core': 1, 'function': 1}}, {'sent_id': 107, 'frequency_of_word': {'note': 1, 'process': 1, 'restrict': 1, 'develop': 1, 'data': 1, 'access': 1, 'even': 1, 'help': 1, 'prevent': 1, 'abus': 1}}, {'sent_id': 108, 'frequency_of_word': {'exampl': 1, 'remov': 1, 'develop': 1, 'access': 1, 'facebook': 1, 'instagram': 2, 'data': 2, 'nt': 1, 'use': 1, 'app': 3, 'three': 1, 'month': 1, 'chang': 1, 'login': 1, 'next': 1, 'version': 1, 'reduc': 1, 'request': 1, 'without': 1, 'review': 1, 'includ': 1, 'name': 1, 'usernam': 1, 'bio': 1, 'profil': 1, 'photo': 1, 'email': 1, 'address': 1}}, {'sent_id': 109, 'frequency_of_word': {'request': 1, 'data': 1, 'requir': 1, 'approv': 1}}, {'sent_id': 110, 'frequency_of_word': {'new': 1, 'owner': 1}}, {'sent_id': 111, 'frequency_of_word': {'ownership': 1, 'control': 1, 'part': 1, 'product': 1, 'asset': 1, 'chang': 1, 'may': 1, 'transfer': 1, 'inform': 1, 'new': 1, 'owner': 1}}, {'sent_id': 112, 'frequency_of_word': {'share': 1, 'thirdparti': 2, 'partner': 2, 'work': 1, 'help': 1, 'us': 1, 'provid': 2, 'improv': 1, 'product': 1, 'use': 1, 'meta': 1, 'busi': 2, 'tool': 1, 'grow': 1, 'make': 1, 'possibl': 1, 'oper': 1, 'compani': 1, 'free': 1, 'servic': 1, 'peopl': 1, 'around': 1, 'world': 1}}, {'sent_id': 113, 'frequency_of_word': {'sell': 1, 'inform': 1, 'anyon': 1, 'never': 1}}, {'sent_id': 114, 'frequency_of_word': {'also': 1, 'impos': 1, 'strict': 1, 'restrict': 1, 'partner': 1, 'use': 1, 'disclos': 1, 'data': 1, 'provid': 1}}, {'sent_id': 115, 'frequency_of_word': {'type': 1, 'third': 1, 'parti': 1, 'share': 1, 'inform': 1, 'partner': 1, 'use': 1, 'analyt': 1, 'servic': 1}}, {'sent_id': 116, 'frequency_of_word': {'provid': 1, 'aggreg': 1, 'statist': 1, 'insight': 1, 'help': 1, 'peopl': 2, 'busi': 1, 'understand': 1, 'engag': 1, 'post': 1, 'list': 1, 'facebook': 1, 'page': 1, 'video': 1, 'content': 1, 'meta': 1, 'product': 1}}, {'sent_id': 117, 'frequency_of_word': {'exampl': 1, 'facebook': 2, 'page': 2, 'admin': 1, 'instagram': 1, 'busi': 1, 'profil': 1, 'receiv': 1, 'inform': 2, 'number': 1, 'peopl': 1, 'account': 2, 'view': 1, 'react': 1, 'comment': 1, 'post': 1, 'well': 1, 'aggreg': 1, 'demograph': 1, 'help': 1, 'understand': 1, 'interact': 1}}, {'sent_id': 118, 'frequency_of_word': {'advertis': 1}}, {'sent_id': 119, 'frequency_of_word': {'provid': 1, 'advertis': 1, 'report': 1, 'kind': 1, 'peopl': 1, 'see': 1, 'ad': 2, 'perform': 1, 'share': 1, 'inform': 2, 'person': 1, 'identifi': 2, 'name': 1, 'email': 1, 'address': 1, 'use': 1, 'contact': 1, 'unless': 1, 'give': 1, 'us': 1, 'permiss': 1}}, {'sent_id': 120, 'frequency_of_word': {'exampl': 2, 'provid': 1, 'gener': 1, 'demograph': 1, 'interest': 1, 'inform': 1, 'advertis': 1, 'ad': 1, 'seen': 1, 'woman': 1, 'age': 1, '25': 1, '34': 1, 'live': 1, 'madrid': 1, 'like': 1, 'softwar': 1, 'engin': 1, 'help': 1, 'better': 1, 'understand': 1, 'audienc': 1}}, {'sent_id': 121, 'frequency_of_word': {'also': 1, 'confirm': 1, 'ad': 1, 'led': 1, 'make': 1, 'purchas': 1, 'take': 1, 'action': 1, 'advertis': 1}}, {'sent_id': 122, 'frequency_of_word': {'measur': 1, 'partner': 1}}, {'sent_id': 123, 'frequency_of_word': {'share': 1, 'inform': 1, 'compani': 1, 'aggreg': 1, 'provid': 1, 'analyt': 1, 'measur': 1, 'report': 1, 'partner': 1}}, {'sent_id': 124, 'frequency_of_word': {'partner': 1, 'offer': 1, 'good': 1, 'servic': 1, 'product': 1}}, {'sent_id': 125, 'frequency_of_word': {'subscrib': 1, 'receiv': 2, 'premium': 1, 'content': 2, 'buy': 1, 'someth': 1, 'seller': 2, 'product': 1, 'creator': 1, 'public': 1, 'inform': 3, 'share': 1, 'well': 1, 'need': 1, 'complet': 1, 'transact': 1, 'includ': 1, 'ship': 1, 'contact': 1, 'detail': 1}}, {'sent_id': 126, 'frequency_of_word': {'vendor': 1, 'servic': 1, 'provid': 1}}, {'sent_id': 127, 'frequency_of_word': {'provid': 4, 'inform': 1, 'content': 1, 'vendor': 1, 'servic': 3, 'support': 1, 'busi': 1, 'technic': 1, 'infrastructur': 1, 'analys': 1, 'product': 1, 'use': 1, 'custom': 1, 'facilit': 1, 'payment': 1, 'conduct': 1, 'survey': 1}}, {'sent_id': 128, 'frequency_of_word': {'research': 1, 'academ': 1}}, {'sent_id': 129, 'frequency_of_word': {'also': 1, 'provid': 1, 'inform': 1, 'content': 1, 'research': 2, 'partner': 1, 'academ': 1, 'conduct': 1, 'advanc': 2, 'scholarship': 1, 'innov': 2, 'support': 1, 'busi': 1, 'mission': 1, 'enhanc': 1, 'discoveri': 1, 'topic': 1, 'gener': 1, 'social': 1, 'welfar': 1, 'technolog': 1, 'public': 1, 'interest': 1, 'health': 1, 'wellb': 1}}, {'sent_id': 130, 'frequency_of_word': {'law': 1, 'enforc': 1, 'legal': 1, 'request': 1}}, {'sent_id': 131, 'frequency_of_word': {'share': 1, 'inform': 1, 'law': 1, 'enforc': 1, 'respons': 1, 'legal': 1, 'request': 1, 'circumst': 1, 'outlin': 1}}, {'sent_id': 132, 'frequency_of_word': {'learn': 1, 'control': 1, 'inform': 1, 'other': 1, 'share': 1, 'thirdparti': 1, 'partner': 1, 'facebook': 1, 'set': 2, 'instagram': 1}}, {'sent_id': 133, 'frequency_of_word': {'iv': 1}}, {'sent_id': 134, 'frequency_of_word': {'meta': 1, 'compani': 1, 'work': 1, 'togeth': 1}}, {'sent_id': 135, 'frequency_of_word': {'facebook': 1, 'instagram': 1, 'share': 1, 'infrastructur': 1, 'system': 1, 'technolog': 1, 'meta': 2, 'compani': 2, 'includ': 1, 'whatsapp': 1, 'oculu': 1, 'provid': 1, 'innov': 1, 'relev': 1, 'consist': 1, 'safe': 1, 'experi': 1, 'across': 1, 'product': 1, 'use': 1}}, {'sent_id': 136, 'frequency_of_word': {'also': 1, 'process': 1, 'inform': 1, 'across': 1, 'meta': 1, 'compani': 1, 'purpos': 1, 'permit': 1, 'applic': 1, 'law': 1, 'accord': 1, 'term': 1, 'polici': 1}}, {'sent_id': 137, 'frequency_of_word': {'exampl': 1, 'process': 1, 'inform': 1, 'whatsapp': 1, 'account': 2, 'send': 1, 'spam': 1, 'servic': 1, 'take': 1, 'appropri': 1, 'action': 1, 'facebook': 1, 'instagram': 1, 'messeng': 1}}, {'sent_id': 138, 'frequency_of_word': {'also': 1, 'work': 1, 'understand': 2, 'peopl': 1, 'use': 1, 'interact': 1, 'meta': 2, 'compani': 2, 'product': 2, 'number': 1, 'uniqu': 1, 'user': 1, 'differ': 1}}, {'sent_id': 139, 'frequency_of_word': {'v': 1, 'manag': 1, 'delet': 1, 'inform': 1}}, {'sent_id': 140, 'frequency_of_word': {'provid': 1, 'abil': 1, 'access': 1, 'rectifi': 1, 'port': 1, 'delet': 1, 'data': 1}}, {'sent_id': 141, 'frequency_of_word': {'learn': 1, 'facebook': 1, 'set': 2, 'instagram': 1}}, {'sent_id': 142, 'frequency_of_word': {'store': 1, 'data': 1, 'longer': 1, 'necessari': 1, 'provid': 1, 'servic': 1, 'meta': 1, 'product': 1, 'account': 1, 'delet': 1, 'whichev': 1, 'come': 1, 'first': 1}}, {'sent_id': 143, 'frequency_of_word': {'casebycas': 1, 'determin': 1, 'depend': 1, 'thing': 1, 'natur': 1, 'data': 1, 'collect': 1, 'process': 1, 'relev': 1, 'legal': 1, 'oper': 1, 'retent': 1, 'need': 1}}, {'sent_id': 144, 'frequency_of_word': {'exampl': 1, 'search': 3, 'someth': 1, 'facebook': 1, 'access': 1, 'delet': 2, 'queri': 1, 'within': 1, 'histori': 1, 'time': 1, 'log': 1, 'six': 1, 'month': 1}}, {'sent_id': 145, 'frequency_of_word': {'submit': 1, 'copi': 2, 'governmentissu': 1, 'id': 1, 'account': 1, 'verif': 1, 'purpos': 1, 'delet': 1, '30': 1, 'day': 1, 'review': 1, 'unless': 1, 'otherwis': 1, 'state': 1}}, {'sent_id': 146, 'frequency_of_word': {'learn': 1, 'delet': 1, 'content': 1, 'share': 1, 'cooki': 1, 'data': 1, 'obtain': 1, 'social': 1, 'plugin': 1}}, {'sent_id': 147, 'frequency_of_word': {'delet': 2, 'account': 1, 'thing': 1, 'post': 1, 'photo': 1, 'statu': 1, 'updat': 1, 'would': 1, 'abl': 1, 'recov': 1, 'inform': 1, 'later': 1}}, {'sent_id': 148, 'frequency_of_word': {'inform': 1, 'other': 1, 'share': 1, 'nt': 1, 'part': 1, 'account': 1, 'would': 1, 'delet': 1}}, {'sent_id': 149, 'frequency_of_word': {'want': 2, 'delet': 1, 'account': 2, 'temporarili': 1, 'stop': 1, 'use': 1, 'product': 1, 'deactiv': 1, 'instead': 1}}, {'sent_id': 150, 'frequency_of_word': {'delet': 1, 'account': 1, 'time': 1, 'pleas': 1, 'visit': 1, 'facebook': 1, 'set': 2, 'instagram': 1}}, {'sent_id': 151, 'frequency_of_word': {'vi': 1}}, {'sent_id': 152, 'frequency_of_word': {'respond': 1, 'legal': 1, 'request': 1, 'prevent': 1, 'harm': 1}}, {'sent_id': 153, 'frequency_of_word': {'access': 1, 'preserv': 1, 'share': 1, 'inform': 1, 'regul': 1, 'law': 1, 'enforc': 1, 'other': 1, 'respons': 1, 'legal': 1, 'request': 1, 'eg': 1}}, {'sent_id': 154, 'frequency_of_word': {'search': 1, 'warrant': 1, 'court': 1, 'order': 1, 'subpoena': 1, 'goodfaith': 1, 'belief': 1, 'law': 1, 'requir': 1, 'us': 1}}, {'sent_id': 155, 'frequency_of_word': {'may': 1, 'includ': 1, 'respond': 1, 'legal': 1, 'request': 1, 'jurisdict': 3, 'outsid': 1, 'unit': 1, 'state': 1, 'goodfaith': 1, 'belief': 1, 'respons': 1, 'requir': 1, 'law': 1, 'affect': 1, 'user': 1, 'consist': 1, 'intern': 1, 'recognis': 1, 'standard': 1}}, {'sent_id': 156, 'frequency_of_word': {'goodfaith': 1, 'belief': 1, 'necessari': 1, 'detect': 1, 'prevent': 2, 'address': 1, 'fraud': 1, 'unauthoris': 1, 'use': 1, 'product': 2, 'breach': 1, 'term': 1, 'polici': 1, 'harm': 2, 'illeg': 1, 'activ': 1, 'protect': 1, 'includ': 2, 'right': 1, 'properti': 1, 'other': 1, 'part': 1, 'investig': 1, 'regulatori': 1, 'enquiri': 1, 'death': 1, 'immin': 1, 'bodili': 1}}, {'sent_id': 157, 'frequency_of_word': {'exampl': 1, 'relev': 1, 'provid': 1, 'inform': 2, 'receiv': 1, 'thirdparti': 1, 'partner': 1, 'reliabl': 1, 'account': 1, 'prevent': 1, 'fraud': 1, 'abus': 1, 'harm': 1, 'activ': 1, 'product': 1}}, {'sent_id': 158, 'frequency_of_word': {'inform': 1, 'receiv': 1, 'includ': 1, 'financi': 1, 'transact': 1, 'data': 1, 'relat': 1, 'purchas': 1, 'made': 1, 'product': 1, 'access': 1, 'preserv': 1, 'extend': 1, 'period': 1, 'subject': 1, 'legal': 1, 'request': 1, 'oblig': 1, 'government': 1, 'investig': 2, 'possibl': 1, 'violat': 1, 'term': 1, 'polici': 1, 'otherwis': 1, 'prevent': 1, 'harm': 1}}, {'sent_id': 159, 'frequency_of_word': {'also': 1, 'retain': 1, 'inform': 1, 'account': 1, 'disabl': 1, 'term': 2, 'breach': 2, 'least': 1, 'year': 1, 'prevent': 1, 'repeat': 1, 'abus': 1}}, {'sent_id': 160, 'frequency_of_word': {'vii': 1}}, {'sent_id': 161, 'frequency_of_word': {'oper': 1, 'transfer': 1, 'data': 1, 'part': 1, 'global': 1, 'servic': 1}}, {'sent_id': 162, 'frequency_of_word': {'share': 2, 'inform': 1, 'global': 1, 'intern': 1, 'within': 1, 'meta': 1, 'compani': 1, 'extern': 1, 'partner': 1, 'connect': 1, 'around': 1, 'world': 1, 'accord': 1, 'polici': 1}}, {'sent_id': 163, 'frequency_of_word': {'inform': 1, 'may': 1, 'exampl': 1, 'transfer': 1, 'transmit': 1, 'store': 1, 'process': 1, 'unit': 1, 'state': 1, 'countri': 1, 'outsid': 1, 'live': 1, 'purpos': 1, 'describ': 1, 'polici': 1}}, {'sent_id': 164, 'frequency_of_word': {'data': 1, 'transfer': 1, 'necessari': 1, 'provid': 2, 'servic': 1, 'set': 1, 'forth': 1, 'meta': 1, 'term': 2, 'instagram': 1, 'global': 1, 'oper': 1, 'product': 1}}, {'sent_id': 165, 'frequency_of_word': {'utilis': 1, 'standard': 1, 'contract': 1, 'claus': 1, 'reli': 1, 'european': 1, 'commiss': 1, 'adequaci': 1, 'decis': 1, 'certain': 1, 'countri': 2, 'applic': 1, 'obtain': 1, 'consent': 1, 'data': 1, 'transfer': 1, 'unit': 1, 'state': 1}}]\n"
          ]
        }
      ]
    },
    {
      "cell_type": "code",
      "source": [
        "def unik_word(sentences):\n",
        "  unik=[]\n",
        "  for sents in sentences:\n",
        "    for word in word_tokenize(sents):\n",
        "      if word not in unik:\n",
        "        unik.append(word)\n",
        "  return unik\n",
        "unik_words=unik_word(sentences)\n",
        "print(len(unik_words))"
      ],
      "metadata": {
        "colab": {
          "base_uri": "https://localhost:8080/"
        },
        "id": "i73xmQ4txUSe",
        "outputId": "0df96e70-633c-43e8-9df1-2843306f47fc"
      },
      "execution_count": null,
      "outputs": [
        {
          "output_type": "stream",
          "name": "stdout",
          "text": [
            "522\n"
          ]
        }
      ]
    },
    {
      "cell_type": "code",
      "source": [
        "import numpy as np\n",
        "\n",
        "def tf_calculation(sent_info,freq_info):\n",
        "  tf_values=np.zeros(shape=(len(sent_info),len(unik_words)))\n",
        "  for i,freq_info_dict in enumerate(freq_info):\n",
        "    for word in freq_info_dict[\"frequency_of_word\"].keys():\n",
        "      tf=freq_info_dict[\"frequency_of_word\"][word]/sent_info[i][\"sent_word_count\"]\n",
        "      tf_values[i][unik_words.index(word)]=tf\n",
        "  return tf_values\n",
        "   \n",
        "  \n",
        "tf_values=tf_calculation(sent_info,freq_info)\n",
        "print(tf_values)"
      ],
      "metadata": {
        "colab": {
          "base_uri": "https://localhost:8080/"
        },
        "id": "ezBhIdKUxWE-",
        "outputId": "3124ae94-b632-48ea-d83e-a7df21b543e4"
      },
      "execution_count": null,
      "outputs": [
        {
          "output_type": "stream",
          "name": "stdout",
          "text": [
            "[[0.         0.         0.         ... 0.         0.         0.        ]\n",
            " [0.33333333 0.33333333 0.33333333 ... 0.         0.         0.        ]\n",
            " [0.         0.16666667 0.         ... 0.         0.         0.        ]\n",
            " ...\n",
            " [0.         0.06666667 0.         ... 0.         0.         0.        ]\n",
            " [0.         0.         0.         ... 0.         0.         0.        ]\n",
            " [0.         0.         0.         ... 0.05263158 0.05263158 0.05263158]]\n"
          ]
        }
      ]
    },
    {
      "cell_type": "code",
      "source": [
        "import math\n",
        "\n",
        "def idf_calculate(sent_info,freq_info):\n",
        "  idf_values=np.zeros(shape=(len(sent_info),len(unik_words)))\n",
        "  for i,freq_info_dict in enumerate(freq_info):\n",
        "    for word in freq_info_dict[\"frequency_of_word\"].keys():\n",
        "      sum=0\n",
        "      for word_in_dict in freq_info:\n",
        "        if word in set(word_in_dict[\"frequency_of_word\"].keys()):\n",
        "          sum=sum+word_in_dict[\"frequency_of_word\"][word]\n",
        "      idf_values[i][unik_words.index(word)]=math.log(len(sentences)/sum)\n",
        "  return idf_values\n",
        "        \n",
        "idf_values=idf_calculate(sent_info,freq_info)\n",
        "print(idf_values)"
      ],
      "metadata": {
        "colab": {
          "base_uri": "https://localhost:8080/"
        },
        "id": "JdaKU7XuxXJW",
        "outputId": "1e11a695-766e-4451-fcb0-1392c3c22bbf"
      },
      "execution_count": null,
      "outputs": [
        {
          "output_type": "stream",
          "name": "stdout",
          "text": [
            "[[0.         0.         0.         ... 0.         0.         0.        ]\n",
            " [4.41884061 0.43915895 2.33939907 ... 0.         0.         0.        ]\n",
            " [0.         0.43915895 0.         ... 0.         0.         0.        ]\n",
            " ...\n",
            " [0.         0.43915895 0.         ... 0.         0.         0.        ]\n",
            " [0.         0.         0.         ... 0.         0.         0.        ]\n",
            " [0.         0.         0.         ... 5.11198779 5.11198779 5.11198779]]\n"
          ]
        }
      ]
    },
    {
      "cell_type": "code",
      "source": [
        "def tfidf_calculation(tf_values,idf_values):\n",
        "  tfidf_values=np.zeros(shape=(len(sent_info),len(unik_words)))\n",
        "  tfidf_values=np.multiply(tf_values,idf_values)\n",
        "  return tfidf_values\n",
        "\n",
        "tfidf_values=tfidf_calculation(tf_values,idf_values)\n",
        "print(tfidf_values)"
      ],
      "metadata": {
        "colab": {
          "base_uri": "https://localhost:8080/"
        },
        "id": "E1R5awIgxYce",
        "outputId": "cc3aea7c-5f1f-4812-fc15-83eb9f8e5d71"
      },
      "execution_count": null,
      "outputs": [
        {
          "output_type": "stream",
          "name": "stdout",
          "text": [
            "[[0.         0.         0.         ... 0.         0.         0.        ]\n",
            " [1.47294687 0.14638632 0.77979969 ... 0.         0.         0.        ]\n",
            " [0.         0.07319316 0.         ... 0.         0.         0.        ]\n",
            " ...\n",
            " [0.         0.02927726 0.         ... 0.         0.         0.        ]\n",
            " [0.         0.         0.         ... 0.         0.         0.        ]\n",
            " [0.         0.         0.         ... 0.26905199 0.26905199 0.26905199]]\n"
          ]
        }
      ]
    },
    {
      "cell_type": "code",
      "source": [
        "def cosine_similarity(sent_1,sent_2):\n",
        "  s1_dot_s2=np.sum(np.multiply(sent_1,sent_2))\n",
        "  magnitude_of_s1=math.sqrt(np.sum(np.multiply(sent_1,sent_1)))\n",
        "  magnitude_of_s2=math.sqrt(np.sum(np.multiply(sent_2,sent_2)))\n",
        "  return s1_dot_s2/(magnitude_of_s1*magnitude_of_s2)"
      ],
      "metadata": {
        "id": "LuEsa4i7xeK5"
      },
      "execution_count": null,
      "outputs": []
    },
    {
      "cell_type": "code",
      "source": [
        "def cosine_matrix(tfidf_values):\n",
        "  cosine_similarity_matrix=np.zeros(shape=(len(sentences),len(sentences)))\n",
        "  for i in range(len(tfidf_values)):\n",
        "    for j in range(len(tfidf_values)):\n",
        "      cosine_similarity_matrix[i][j]=cosine_similarity(tfidf_values[i],tfidf_values[j])\n",
        "  #normalize the matrix\n",
        "  for idx in range(len(cosine_similarity_matrix)):\n",
        "    cosine_similarity_matrix[idx] /= cosine_similarity_matrix[idx].sum()\n",
        "    \n",
        "  return cosine_similarity_matrix\n",
        "\n",
        "cosine_similarity_matrix = cosine_matrix(tfidf_values)\n",
        "print(cosine_similarity_matrix)"
      ],
      "metadata": {
        "colab": {
          "base_uri": "https://localhost:8080/"
        },
        "id": "2e59fqvwxgjJ",
        "outputId": "9e730517-329f-46ef-a1fe-d97983c0d409"
      },
      "execution_count": null,
      "outputs": [
        {
          "output_type": "stream",
          "name": "stderr",
          "text": [
            "<ipython-input-62-b136f81e791f>:5: RuntimeWarning: invalid value encountered in double_scalars\n",
            "  return s1_dot_s2/(magnitude_of_s1*magnitude_of_s2)\n"
          ]
        },
        {
          "output_type": "stream",
          "name": "stdout",
          "text": [
            "[[nan nan nan ... nan nan nan]\n",
            " [nan nan nan ... nan nan nan]\n",
            " [nan nan nan ... nan nan nan]\n",
            " ...\n",
            " [nan nan nan ... nan nan nan]\n",
            " [nan nan nan ... nan nan nan]\n",
            " [nan nan nan ... nan nan nan]]\n"
          ]
        }
      ]
    },
    {
      "cell_type": "code",
      "source": [
        "def text_rank(cosine_matrix,eps=0.0001,d=0.85):\n",
        "  teleportation_factor=np.ones(len(sentences))/len(sentences)\n",
        "  i=0\n",
        "  while i<100:\n",
        "    new_p=np.dot(cosine_similarity_matrix.T,teleportation_factor.T)\n",
        "    if i<=100:\n",
        "      return new_p\n",
        "    i=i+1\n",
        "    teleportation_factor = new_p\n",
        "  \n",
        "  \n",
        "result_rank=text_rank(cosine_similarity_matrix)\n",
        "#print(len(sentences))\n",
        "\n",
        "rank_with_sentence={}\n",
        "for i in range(len(sent_for_print)):\n",
        "  if result_rank[i] not in set(rank_with_sentence.keys()):\n",
        "    rank_with_sentence[result_rank[i]]=[sent_for_print[i]]\n",
        "  else:\n",
        "    rank_with_sentence[result_rank[i]].append(sent_for_print[i])\n",
        "    \n",
        "result=''\n",
        "\n",
        "#sentences with their rank\n",
        "for key in sorted(rank_with_sentence.keys(),reverse=True)[:int(len(rank_with_sentence.keys())/4)]:\n",
        "  for k in rank_with_sentence[key]:\n",
        "    #print(key,k)\n",
        "    result+=k.capitalize()+' '"
      ],
      "metadata": {
        "id": "wFWC38w1xkE6"
      },
      "execution_count": null,
      "outputs": []
    },
    {
      "cell_type": "code",
      "source": [
        "result"
      ],
      "metadata": {
        "colab": {
          "base_uri": "https://localhost:8080/",
          "height": 140
        },
        "id": "5EV5ZPCKxmc5",
        "outputId": "015a6f29-0c50-46ce-e2cd-29365dfb69df"
      },
      "execution_count": null,
      "outputs": [
        {
          "output_type": "execute_result",
          "data": {
            "text/plain": [
              "'\"\"\"i. What kinds of information do we collect? To provide the meta products, we must process information about you. The type of information that we collect depends on how you use our products. You can learn how to access and delete information that we collect by visiting the facebook settings and instagram settings. Things that you and others do and provide. Information and content you provide. We collect the content, communications and other information you provide when you use our products, including when you sign up for an account, create or share content and message or communicate with others. This can include information in or about the content that you provide (e.g. Metadata), such as the location of a photo or the date a file was created. It can also include what you see through features that we provide, such as our camera, so we can do things such as suggest masks and filters that you might like, or give you tips on using camera formats. Our systems automatically process content and communications that you and others provide to analyse context and what is in them for the purposes described below. Learn more about how you can control who can see the things you share. Data with special protections: you can choose to provide information in your facebook profile fields or life events about your religious views, political views, who you are \"interested in\" or your health. This and other information (such as racial or ethnic origin, philosophical beliefs or trade union membership) could be subject to special protections under the laws of your country. Networks and connections. We collect information about the people, accounts, hashtags, facebook groups and pages that you are connected to and how you interact with them across our products, such as people you communicate with the most or groups that you are part of. We also collect contact information if you choose to upload, sync or import it from a device (such as an address book or call log or sms log history), which we use for things such as helping you and others find people you may know and for the other purposes listed below. Your usage. We collect information about how you use our products, such as the types of content that you view or engage with, the features you use, the actions you take, the people or accounts you interact with and the time, frequency and duration of your activities. For example, we log when you\\'re using and have last used our products, and what posts, videos and other content you view on our products. We also collect information about how you use features such as our camera. Information about transactions made on our products. If you use our products for purchases or other financial transactions (such as when you make a purchase in a game or make a donation), we collect information about the purchase or transaction. This includes payment information, such as your credit or debit card number and other card information, other account and authentication information, and billing, delivery and contact details. Things others do and information they provide about you. We also receive and analyse content, communications and information that other people provide when they use our products. This can include information about you, such as when others share or comment on a photo of you, send a message to you or upload, sync or import your contact information. Device information. As described below, we collect information from and about the computers, phones, connected tvs and other web-connected devices you use that integrate with our products, and we combine this information across different devices you use. For example, we use information collected about your use of our products on your phone to better personalise the content (including ads) or features that you see when you use our products on another device, such as your laptop or tablet, or to measure whether you took an action in response to an ad that we showed you on your phone on a different device. Information we obtain from these devices includes: device attributes: information such as the operating system, hardware and software versions, battery level, signal strength, available storage space, browser type, app and file names and types, and plugins. Device operations: information about operations and behaviours performed on the device, such as whether a window is in the foreground or background, or mouse movements (which can help distinguish humans from bots). Identifiers: unique identifiers, device ids and other identifiers, such as from games, apps or accounts that you use, and family device ids (or other identifiers unique to meta company products associated with the same device or account). Device signals: bluetooth signals, information about nearby wi-fi access points, beacons and mobile phone masts. Data from device settings: information you allow us to receive through device settings that you turn on, such as access to your gps location, camera or photos. Network and connections: information such as the name of your mobile operator or isp, language, time zone, mobile phone number, ip address, connection speed and, in some cases, information about other devices that are nearby or on your network, so we can do things such as help you stream a video from your phone to your tv. Cookie data: data from cookies stored on your device, including cookie ids and settings. Learn more about how we use cookies in the facebook cookies policy and instagram cookies policy. Information from partners. Advertisers, app developers and publishers can send us information through meta business tools that they use, including our social plug-ins (such as the like button), facebook login, our apis and sdks or the meta pixel. '"
            ],
            "application/vnd.google.colaboratory.intrinsic+json": {
              "type": "string"
            }
          },
          "metadata": {},
          "execution_count": 65
        }
      ]
    },
    {
      "cell_type": "code",
      "source": [
        "with open('/content/drive/MyDrive/PCL/TextData/T&C.txt','w') as f:\n",
        "  f.write(result)"
      ],
      "metadata": {
        "id": "bbpaXWXfxm7B"
      },
      "execution_count": null,
      "outputs": []
    },
    {
      "cell_type": "markdown",
      "source": [
        "#Abstractive Summarization - Transformer BART"
      ],
      "metadata": {
        "id": "v_pOCF9lwlbF"
      }
    },
    {
      "cell_type": "code",
      "source": [
        "with open('/content/drive/MyDrive/PCL/TextData/T&C.txt','r') as file:\n",
        "  file_content=file.read().strip()"
      ],
      "metadata": {
        "id": "EEQ1c6K9Xzby"
      },
      "execution_count": null,
      "outputs": []
    },
    {
      "cell_type": "code",
      "source": [
        "file_content"
      ],
      "metadata": {
        "id": "XxjwhVg5bQwG",
        "colab": {
          "base_uri": "https://localhost:8080/",
          "height": 140
        },
        "outputId": "e86a9bf7-fe91-4697-cf5f-98ae31315e9c"
      },
      "execution_count": null,
      "outputs": [
        {
          "output_type": "execute_result",
          "data": {
            "text/plain": [
              "'\"\"\"i. What kinds of information do we collect? To provide the meta products, we must process information about you. The type of information that we collect depends on how you use our products. You can learn how to access and delete information that we collect by visiting the facebook settings and instagram settings. Things that you and others do and provide. Information and content you provide. We collect the content, communications and other information you provide when you use our products, including when you sign up for an account, create or share content and message or communicate with others. This can include information in or about the content that you provide (e.g. Metadata), such as the location of a photo or the date a file was created. It can also include what you see through features that we provide, such as our camera, so we can do things such as suggest masks and filters that you might like, or give you tips on using camera formats. Our systems automatically process content and communications that you and others provide to analyse context and what is in them for the purposes described below. Learn more about how you can control who can see the things you share. Data with special protections: you can choose to provide information in your facebook profile fields or life events about your religious views, political views, who you are \"interested in\" or your health. This and other information (such as racial or ethnic origin, philosophical beliefs or trade union membership) could be subject to special protections under the laws of your country. Networks and connections. We collect information about the people, accounts, hashtags, facebook groups and pages that you are connected to and how you interact with them across our products, such as people you communicate with the most or groups that you are part of. We also collect contact information if you choose to upload, sync or import it from a device (such as an address book or call log or sms log history), which we use for things such as helping you and others find people you may know and for the other purposes listed below. Your usage. We collect information about how you use our products, such as the types of content that you view or engage with, the features you use, the actions you take, the people or accounts you interact with and the time, frequency and duration of your activities. For example, we log when you\\'re using and have last used our products, and what posts, videos and other content you view on our products. We also collect information about how you use features such as our camera. Information about transactions made on our products. If you use our products for purchases or other financial transactions (such as when you make a purchase in a game or make a donation), we collect information about the purchase or transaction. This includes payment information, such as your credit or debit card number and other card information, other account and authentication information, and billing, delivery and contact details. Things others do and information they provide about you. We also receive and analyse content, communications and information that other people provide when they use our products. This can include information about you, such as when others share or comment on a photo of you, send a message to you or upload, sync or import your contact information. Device information. As described below, we collect information from and about the computers, phones, connected tvs and other web-connected devices you use that integrate with our products, and we combine this information across different devices you use. For example, we use information collected about your use of our products on your phone to better personalise the content (including ads) or features that you see when you use our products on another device, such as your laptop or tablet, or to measure whether you took an action in response to an ad that we showed you on your phone on a different device. Information we obtain from these devices includes: device attributes: information such as the operating system, hardware and software versions, battery level, signal strength, available storage space, browser type, app and file names and types, and plugins. Device operations: information about operations and behaviours performed on the device, such as whether a window is in the foreground or background, or mouse movements (which can help distinguish humans from bots). Identifiers: unique identifiers, device ids and other identifiers, such as from games, apps or accounts that you use, and family device ids (or other identifiers unique to meta company products associated with the same device or account). Device signals: bluetooth signals, information about nearby wi-fi access points, beacons and mobile phone masts. Data from device settings: information you allow us to receive through device settings that you turn on, such as access to your gps location, camera or photos. Network and connections: information such as the name of your mobile operator or isp, language, time zone, mobile phone number, ip address, connection speed and, in some cases, information about other devices that are nearby or on your network, so we can do things such as help you stream a video from your phone to your tv. Cookie data: data from cookies stored on your device, including cookie ids and settings. Learn more about how we use cookies in the facebook cookies policy and instagram cookies policy. Information from partners. Advertisers, app developers and publishers can send us information through meta business tools that they use, including our social plug-ins (such as the like button), facebook login, our apis and sdks or the meta pixel.'"
            ],
            "application/vnd.google.colaboratory.intrinsic+json": {
              "type": "string"
            }
          },
          "metadata": {},
          "execution_count": 68
        }
      ]
    },
    {
      "cell_type": "code",
      "source": [
        "len(file_content)"
      ],
      "metadata": {
        "id": "_dQ-V1ULbX9m",
        "colab": {
          "base_uri": "https://localhost:8080/"
        },
        "outputId": "e9f43bf8-a193-48f3-c626-0750042fe2a0"
      },
      "execution_count": null,
      "outputs": [
        {
          "output_type": "execute_result",
          "data": {
            "text/plain": [
              "5742"
            ]
          },
          "metadata": {},
          "execution_count": 69
        }
      ]
    },
    {
      "cell_type": "code",
      "source": [
        "from transformers import AutoTokenizer,AutoModelForSeq2SeqLM"
      ],
      "metadata": {
        "id": "izAHQhUDbaem"
      },
      "execution_count": null,
      "outputs": []
    },
    {
      "cell_type": "code",
      "source": [
        "checkpoint='philschmid/bart-large-cnn-samsum'\n",
        "\n",
        "tokenizer=AutoTokenizer.from_pretrained(checkpoint)\n",
        "model=AutoModelForSeq2SeqLM.from_pretrained(checkpoint)"
      ],
      "metadata": {
        "id": "bcyRKACZbsiW"
      },
      "execution_count": null,
      "outputs": []
    },
    {
      "cell_type": "code",
      "source": [
        "tokenizer.model_max_length"
      ],
      "metadata": {
        "id": "fSgHJ7Itc4au",
        "colab": {
          "base_uri": "https://localhost:8080/"
        },
        "outputId": "2685c48a-2207-4c0a-ea13-bf0263db167b"
      },
      "execution_count": null,
      "outputs": [
        {
          "output_type": "execute_result",
          "data": {
            "text/plain": [
              "1024"
            ]
          },
          "metadata": {},
          "execution_count": 72
        }
      ]
    },
    {
      "cell_type": "code",
      "source": [
        "tokenizer.max_len_single_sentence"
      ],
      "metadata": {
        "id": "cTGq_cA_dR8G",
        "colab": {
          "base_uri": "https://localhost:8080/"
        },
        "outputId": "794b5bf0-c7c5-4174-fbe6-8667ee4314dc"
      },
      "execution_count": null,
      "outputs": [
        {
          "output_type": "execute_result",
          "data": {
            "text/plain": [
              "1022"
            ]
          },
          "metadata": {},
          "execution_count": 73
        }
      ]
    },
    {
      "cell_type": "code",
      "source": [
        "tokenizer.num_special_tokens_to_add()"
      ],
      "metadata": {
        "id": "R8gcUnavdrEw",
        "colab": {
          "base_uri": "https://localhost:8080/"
        },
        "outputId": "75c9a4c9-2dee-44f2-dd87-aefb79048936"
      },
      "execution_count": null,
      "outputs": [
        {
          "output_type": "execute_result",
          "data": {
            "text/plain": [
              "2"
            ]
          },
          "metadata": {},
          "execution_count": 74
        }
      ]
    },
    {
      "cell_type": "code",
      "source": [
        "nltk.download('punkt')\n",
        "sentences=nltk.sent_tokenize(file_content)"
      ],
      "metadata": {
        "id": "W76tTQALd2Hw",
        "colab": {
          "base_uri": "https://localhost:8080/"
        },
        "outputId": "2bcd4cf3-fbcc-403b-c0a4-3312906e381d"
      },
      "execution_count": null,
      "outputs": [
        {
          "output_type": "stream",
          "name": "stderr",
          "text": [
            "[nltk_data] Downloading package punkt to /root/nltk_data...\n",
            "[nltk_data]   Package punkt is already up-to-date!\n"
          ]
        }
      ]
    },
    {
      "cell_type": "code",
      "source": [
        "len(sentences)"
      ],
      "metadata": {
        "id": "eInaX8dVeUmG",
        "colab": {
          "base_uri": "https://localhost:8080/"
        },
        "outputId": "7161739b-6973-42ea-db1b-39a88f2ef763"
      },
      "execution_count": null,
      "outputs": [
        {
          "output_type": "execute_result",
          "data": {
            "text/plain": [
              "41"
            ]
          },
          "metadata": {},
          "execution_count": 76
        }
      ]
    },
    {
      "cell_type": "code",
      "source": [
        "max([len(tokenizer.tokenize(sentence)) for sentence in sentences])"
      ],
      "metadata": {
        "id": "IKsMH41SejgN",
        "colab": {
          "base_uri": "https://localhost:8080/"
        },
        "outputId": "cebacc44-cf81-448b-a723-0a51b9fdad68"
      },
      "execution_count": null,
      "outputs": [
        {
          "output_type": "execute_result",
          "data": {
            "text/plain": [
              "72"
            ]
          },
          "metadata": {},
          "execution_count": 77
        }
      ]
    },
    {
      "cell_type": "code",
      "source": [
        "length=0\n",
        "chunk=''\n",
        "chunks=[]\n",
        "count=-1\n",
        "\n",
        "for sentence in sentences:\n",
        "  count+=1\n",
        "  combined_length=len(tokenizer.tokenize(sentence))+length\n",
        "\n",
        "  if combined_length<=tokenizer.max_len_single_sentence:\n",
        "    chunk+=sentence+' '\n",
        "    length=combined_length\n",
        "   \n",
        "    if count==len(sentence)-1:\n",
        "      chunks.append(chunk.strip())\n",
        "  else:\n",
        "      chunks.append(chunk.strip())\n",
        "\n",
        "      length=0\n",
        "      chunk=''\n",
        "      \n",
        "      chunk+=sentence+' '\n",
        "      length=len(tokenizer.tokenize(sentence))\n",
        "len(chunks)"
      ],
      "metadata": {
        "id": "Ru_IQVVNfUi-",
        "colab": {
          "base_uri": "https://localhost:8080/"
        },
        "outputId": "2e8f0ee5-78fa-44d8-cdd5-2f91a732e673"
      },
      "execution_count": null,
      "outputs": [
        {
          "output_type": "execute_result",
          "data": {
            "text/plain": [
              "1"
            ]
          },
          "metadata": {},
          "execution_count": 78
        }
      ]
    },
    {
      "cell_type": "code",
      "source": [
        "[len(tokenizer.tokenize(c)) for c in chunks]"
      ],
      "metadata": {
        "id": "zBOLZjXPjjRg",
        "colab": {
          "base_uri": "https://localhost:8080/"
        },
        "outputId": "d67b7314-c064-4547-83ee-c8bdf7af0949"
      },
      "execution_count": null,
      "outputs": [
        {
          "output_type": "execute_result",
          "data": {
            "text/plain": [
              "[1021]"
            ]
          },
          "metadata": {},
          "execution_count": 79
        }
      ]
    },
    {
      "cell_type": "code",
      "source": [
        "[len(tokenizer(c).input_ids) for c in chunks]"
      ],
      "metadata": {
        "id": "KnPjI7makDlx",
        "colab": {
          "base_uri": "https://localhost:8080/"
        },
        "outputId": "88ed9036-472a-423b-e890-cd7e1e27223c"
      },
      "execution_count": null,
      "outputs": [
        {
          "output_type": "execute_result",
          "data": {
            "text/plain": [
              "[1023]"
            ]
          },
          "metadata": {},
          "execution_count": 80
        }
      ]
    },
    {
      "cell_type": "code",
      "source": [
        "sum(len(tokenizer.tokenize(c)) for c in chunks)"
      ],
      "metadata": {
        "id": "hVIhaKhrkaE5",
        "colab": {
          "base_uri": "https://localhost:8080/"
        },
        "outputId": "1b371e1c-6034-4b2b-ae33-8f9d81315df9"
      },
      "execution_count": null,
      "outputs": [
        {
          "output_type": "execute_result",
          "data": {
            "text/plain": [
              "1021"
            ]
          },
          "metadata": {},
          "execution_count": 81
        }
      ]
    },
    {
      "cell_type": "code",
      "source": [
        "inputs=[tokenizer(chunk,return_tensors='pt') for chunk in chunks]"
      ],
      "metadata": {
        "id": "sEbspMyllKqB"
      },
      "execution_count": null,
      "outputs": []
    },
    {
      "cell_type": "code",
      "source": [
        "for input in inputs:\n",
        "  output=model.generate(**input,min_length=200,max_length=500)\n",
        "  final_summarization=tokenizer.decode(*output,skip_special_tokens=True)"
      ],
      "metadata": {
        "id": "Y0i6Pvg2lr3x"
      },
      "execution_count": null,
      "outputs": []
    },
    {
      "cell_type": "code",
      "source": [
        "final_summarization.strip()"
      ],
      "metadata": {
        "id": "3f9sphL26L3q",
        "colab": {
          "base_uri": "https://localhost:8080/",
          "height": 140
        },
        "outputId": "6aa94e09-34e2-4afc-f4e4-b5a0ed480797"
      },
      "execution_count": null,
      "outputs": [
        {
          "output_type": "execute_result",
          "data": {
            "text/plain": [
              "\"To provide the meta products, we must process information about you. The type of information that we collect depends on how you use our products. You can learn how to access and delete the information we collect by visiting the facebook settings and instagram settings. We collect the content, communications and other information you provide when you use the products. We also collect information about transactions made on our products and the people you interact with through our products, such as people you communicate with the most or groups that you are part of. We use information collected about your use of our products on your phone to better personalise the content (including ads) and features that you see when you used them on another devices. We log when you're using and have last used our products as well as what posts, videos and other content you view on them. For example, we log when, where and how you view the content on the products, and what posts and videos you view. For the purposes listed below, we collect information from and about the computers, phones, connected tvs and other web-connected devices.\""
            ],
            "application/vnd.google.colaboratory.intrinsic+json": {
              "type": "string"
            }
          },
          "metadata": {},
          "execution_count": 84
        }
      ]
    },
    {
      "cell_type": "code",
      "source": [
        "len(final_summarization)"
      ],
      "metadata": {
        "id": "KfBu9JRD6-uT",
        "colab": {
          "base_uri": "https://localhost:8080/"
        },
        "outputId": "edb51bf5-2177-429f-b232-a9fd88be0a4e"
      },
      "execution_count": null,
      "outputs": [
        {
          "output_type": "execute_result",
          "data": {
            "text/plain": [
              "1134"
            ]
          },
          "metadata": {},
          "execution_count": 85
        }
      ]
    },
    {
      "cell_type": "code",
      "source": [
        "import nltk.data\n",
        "tokenizer = nltk.data.load('tokenizers/punkt/PY3/english.pickle')\n",
        "sent_list=tokenizer.tokenize(final_summarization.strip())"
      ],
      "metadata": {
        "id": "2jRT5a39kTGq"
      },
      "execution_count": null,
      "outputs": []
    },
    {
      "cell_type": "code",
      "source": [
        "for sent in sent_list:\n",
        "  print(sent,'\\n')"
      ],
      "metadata": {
        "colab": {
          "base_uri": "https://localhost:8080/"
        },
        "id": "suL6dGsgki0Y",
        "outputId": "b71be614-8e12-4d06-8567-a093281e4442"
      },
      "execution_count": null,
      "outputs": [
        {
          "output_type": "stream",
          "name": "stdout",
          "text": [
            "To provide the meta products, we must process information about you. \n",
            "\n",
            "The type of information that we collect depends on how you use our products. \n",
            "\n",
            "You can learn how to access and delete the information we collect by visiting the facebook settings and instagram settings. \n",
            "\n",
            "We collect the content, communications and other information you provide when you use the products. \n",
            "\n",
            "We also collect information about transactions made on our products and the people you interact with through our products, such as people you communicate with the most or groups that you are part of. \n",
            "\n",
            "We use information collected about your use of our products on your phone to better personalise the content (including ads) and features that you see when you used them on another devices. \n",
            "\n",
            "We log when you're using and have last used our products as well as what posts, videos and other content you view on them. \n",
            "\n",
            "For example, we log when, where and how you view the content on the products, and what posts and videos you view. \n",
            "\n",
            "For the purposes listed below, we collect information from and about the computers, phones, connected tvs and other web-connected devices. \n",
            "\n"
          ]
        }
      ]
    },
    {
      "cell_type": "code",
      "source": [
        "with open('/content/drive/MyDrive/PCL/TextData/summarized_output.txt','a') as f:\n",
        "  for sent in sent_list:\n",
        "    sentence=f'{sent} \\n'\n",
        "    f.write(sentence)"
      ],
      "metadata": {
        "id": "2zHMGeHMlqW6"
      },
      "execution_count": null,
      "outputs": []
    }
  ]
}